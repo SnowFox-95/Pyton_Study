{
 "cells": [
  {
   "cell_type": "markdown",
   "source": [
    "Здесь будут лежать пути к нерешенным задачам с курсов Stepic"
   ],
   "metadata": {
    "collapsed": false,
    "pycharm": {
     "name": "#%% md\n"
    }
   }
  },
  {
   "cell_type": "markdown",
   "source": [
    "~~#1\n",
    "BEEGEEK/Junior/04_If&Else/04_3_Cascading and nested conditions/4_3_11~~"
   ],
   "metadata": {
    "collapsed": false,
    "pycharm": {
     "name": "#%% md\n"
    }
   }
  },
  {
   "cell_type": "markdown",
   "source": [
    "#3\n",
    "BEEGEEK/Junior/07_For_and_While_loops/07_2_For_loop_Range_function/07_2_09_1_uslov.py"
   ],
   "metadata": {
    "collapsed": false,
    "pycharm": {
     "name": "#%% md\n"
    }
   }
  },
  {
   "cell_type": "markdown",
   "source": [
    "#4\n",
    "BEEGEEK/Junior/07_For_and_While_loops/07_3_For_Loops_Common_Scenarios/!07_3_15.py"
   ],
   "metadata": {
    "collapsed": false,
    "pycharm": {
     "name": "#%% md\n"
    }
   }
  },
  {
   "cell_type": "markdown",
   "source": [
    "~~#4\n",
    "BEEGEEK/Junior/07_For_and_While_loops/07_3_For_Loops_Common_Scenarios/!07_3_15.py~~"
   ],
   "metadata": {
    "collapsed": false,
    "pycharm": {
     "name": "#%% md\n"
    }
   }
  }
 ],
 "metadata": {
  "kernelspec": {
   "display_name": "Python 3",
   "language": "python",
   "name": "python3"
  },
  "language_info": {
   "codemirror_mode": {
    "name": "ipython",
    "version": 2
   },
   "file_extension": ".py",
   "mimetype": "text/x-python",
   "name": "python",
   "nbconvert_exporter": "python",
   "pygments_lexer": "ipython2",
   "version": "2.7.6"
  }
 },
 "nbformat": 4,
 "nbformat_minor": 0
}