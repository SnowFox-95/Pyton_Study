{
 "cells": [
  {
   "cell_type": "markdown",
   "source": [
    "#2\n",
    "Выберите верные строки кода.\n",
    "-   print(\"I'm a math teacher and a programmer!\")\n",
    "-   print(\"3.1415\")\n",
    "-   print()\n",
    "-   print('Поэма \"Мёртвые души\" одна из самых интересных')\n",
    "-   print('Просто текст...\")\n",
    "-   print('I'm 16 and I'm from Northern Ireland.')"
   ],
   "metadata": {
    "collapsed": false,
    "pycharm": {
     "name": "#%% md\n"
    }
   }
  },
  {
   "cell_type": "code",
   "execution_count": null,
   "metadata": {
    "collapsed": true,
    "pycharm": {
     "name": "#%%\n"
    }
   },
   "outputs": [],
   "source": [
    "#CorrectAnswers\n",
    "\n",
    "#print(\"I'm a math teacher and a programmer!\")\n",
    "#print(\"3.1415\")\n",
    "#print()\n",
    "#print('Поэма \"Мёртвые души\" одна из самых интересных')"
   ]
  },
  {
   "cell_type": "markdown",
   "source": [
    "#3\n",
    "Выберите верные строки кода.\n",
    "-   print('Python', 'is the best', '!!')\n",
    "-   print(\"10\", '100', '1000)\n",
    "-   print(\"Python\", , \"is the best\")\n",
    "-   print(\"раз\", \"два, \"три\")"
   ],
   "metadata": {
    "collapsed": false,
    "pycharm": {
     "name": "#%% md\n"
    }
   }
  },
  {
   "cell_type": "code",
   "execution_count": null,
   "outputs": [],
   "source": [
    "#CorrectAnswers\n",
    "\n",
    "#print('Python', 'is the best', '!!')"
   ],
   "metadata": {
    "collapsed": false,
    "pycharm": {
     "name": "#%%\n"
    }
   }
  },
  {
   "cell_type": "markdown",
   "source": [
    "#4\n",
    "Что выведет следующий код print('1', '2', '3', '4', sep='*')?"
   ],
   "metadata": {
    "collapsed": false,
    "pycharm": {
     "name": "#%% md\n"
    }
   }
  },
  {
   "cell_type": "code",
   "execution_count": null,
   "outputs": [],
   "source": [
    "print('1', '2', '3', '4', sep='*') #1*2*3*4"
   ],
   "metadata": {
    "collapsed": false,
    "pycharm": {
     "name": "#%%\n"
    }
   }
  },
  {
   "cell_type": "markdown",
   "source": [
    "#5\n",
    "Выберите верные строки кода.\n",
    "-   print(\"Remember not to get too close to stars\", \"They're never gonna give you love like ours\", sepp=\" \")\n",
    "-   print(\"Remember not to get too close to stars\", end==\"\")\n",
    "-   print(\"The world's a little blurry\", \"Or maybe it's my eyes\", end='!!!', sep=' :) ')\n",
    "-   print(\"Told you not to worry\", \"But maybe that's a lie\", sep=' :) ')\n",
    "-   print(\"Honey, what's your hurry\", end='?')"
   ],
   "metadata": {
    "collapsed": false,
    "pycharm": {
     "name": "#%% md\n"
    }
   }
  },
  {
   "cell_type": "code",
   "execution_count": null,
   "outputs": [],
   "source": [
    "#CorrectAnswers\n",
    "\n",
    "# print(\"The world's a little blurry\", \"Or maybe it's my eyes\", end='!!!', sep=' :) ')\n",
    "# print(\"Told you not to worry\", \"But maybe that's a lie\", sep=' :) ')\n",
    "# print(\"Honey, what's your hurry\", end='?')"
   ],
   "metadata": {
    "collapsed": false,
    "pycharm": {
     "name": "#%%\n"
    }
   }
  },
  {
   "cell_type": "markdown",
   "source": [
    "#9\n",
    "Какое число выведет следующий код?\n",
    "\n",
    "s = 13\n",
    "k = -5\n",
    "d = s + 2\n",
    "s = d\n",
    "k = 2 * s\n",
    "print(s + k + d)"
   ],
   "metadata": {
    "collapsed": false,
    "pycharm": {
     "name": "#%% md\n"
    }
   }
  },
  {
   "cell_type": "code",
   "execution_count": null,
   "outputs": [],
   "source": [
    "s = 13\n",
    "k = -5\n",
    "d = s + 2\n",
    "s = d\n",
    "k = 2 * s\n",
    "print(s + k + d) # 60"
   ],
   "metadata": {
    "collapsed": false,
    "pycharm": {
     "name": "#%%\n"
    }
   }
  },
  {
   "cell_type": "markdown",
   "source": [
    "#10\n",
    "Какое число выведет следующий код?\n",
    "\n",
    "a = 17 // (23 % 7)\n",
    "b = 34 % a * 5 - 29 % 4 * 3\n",
    "print(a * b)"
   ],
   "metadata": {
    "collapsed": false,
    "pycharm": {
     "name": "#%% md\n"
    }
   }
  },
  {
   "cell_type": "code",
   "execution_count": null,
   "outputs": [],
   "source": [
    "a = 17 // (23 % 7)\n",
    "b = 34 % a * 5 - 29 % 4 * 3\n",
    "print(a * b) #56"
   ],
   "metadata": {
    "collapsed": false,
    "pycharm": {
     "name": "#%%\n"
    }
   }
  }
 ],
 "metadata": {
  "kernelspec": {
   "display_name": "Python 3",
   "language": "python",
   "name": "python3"
  },
  "language_info": {
   "codemirror_mode": {
    "name": "ipython",
    "version": 2
   },
   "file_extension": ".py",
   "mimetype": "text/x-python",
   "name": "python",
   "nbconvert_exporter": "python",
   "pygments_lexer": "ipython2",
   "version": "2.7.6"
  }
 },
 "nbformat": 4,
 "nbformat_minor": 0
}