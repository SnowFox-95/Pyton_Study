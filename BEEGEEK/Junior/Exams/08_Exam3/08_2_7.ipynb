{
 "cells": [
  {
   "cell_type": "markdown",
   "source": [
    "#7\n",
    "Числа Рамануджана 🌶️\n",
    "Сриниваса Рамануджан – индийский математик, славившийся своей интуицией в области чисел. Когда английский математик Годфри Харди навестил его однажды в больнице, он обмолвился, что номером такси, на котором он приехал, было 1729, такое скучное и заурядное число. На что Рамануджан ответил: \"Нет, нет! Это очень интересное число. Это наименьшее число, выражаемое как сумма двух кубов двумя разными способами\". Другими словами:\n",
    "1729 = 1^3 + 12^3 = 9^3 + 10^3.\n",
    "\n",
    "Напишите программу, которая находит аналогичные интересные числа. В ответе запишите первые 5 чисел в порядке возрастания, включая число 1729.\n",
    "\n",
    "Примечание. Используйте вложенный цикл."
   ],
   "metadata": {
    "collapsed": false,
    "pycharm": {
     "name": "#%% md\n"
    }
   }
  },
  {
   "cell_type": "code",
   "execution_count": 1,
   "outputs": [
    {
     "name": "stdout",
     "output_type": "stream",
     "text": [
      "1   1729\n",
      "2   4104\n",
      "3   13832\n",
      "4   20683\n",
      "5   32832\n"
     ]
    }
   ],
   "source": [
    "import math\n",
    "def printTaxicab2(num):\n",
    "    # Starting from 1, check every number if\n",
    "    # it is Taxicab until count reaches N.\n",
    "    i, count = 1, 0\n",
    "    while count < num:\n",
    "        int_count = 0\n",
    "        # Try all possible pairs (j, k)\n",
    "        # whose cube sums can be i.\n",
    "        for j in range(1, math.ceil(\n",
    "                pow(i, 1.0 / 3)) + 1):\n",
    "            for k in range(j + 1,\n",
    "                           math.ceil(pow(i, 1.0 / 3)) + 1):\n",
    "                if j * j * j + k * k * k == i:\n",
    "                    int_count += 1\n",
    "        # Taxicab(2) found\n",
    "        if int_count == 2:\n",
    "            count += 1\n",
    "            print(count, \" \", i)\n",
    "        i += 1\n",
    "# Driver code\n",
    "N = 5\n",
    "printTaxicab2(N)"
   ],
   "metadata": {
    "collapsed": false,
    "pycharm": {
     "name": "#%%\n"
    }
   }
  }
 ],
 "metadata": {
  "kernelspec": {
   "display_name": "Python 3",
   "language": "python",
   "name": "python3"
  },
  "language_info": {
   "codemirror_mode": {
    "name": "ipython",
    "version": 2
   },
   "file_extension": ".py",
   "mimetype": "text/x-python",
   "name": "python",
   "nbconvert_exporter": "python",
   "pygments_lexer": "ipython2",
   "version": "2.7.6"
  }
 },
 "nbformat": 4,
 "nbformat_minor": 0
}