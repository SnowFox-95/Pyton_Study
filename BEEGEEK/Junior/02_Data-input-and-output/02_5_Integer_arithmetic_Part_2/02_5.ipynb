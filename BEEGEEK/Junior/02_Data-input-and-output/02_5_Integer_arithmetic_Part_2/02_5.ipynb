{
 "cells": [
  {
   "cell_type": "markdown",
   "source": [
    "#2\n",
    "Дан ряд примеров.\n",
    "Высчитать результаты целочисленного деления и заполнить пропуски"
   ],
   "metadata": {
    "collapsed": false,
    "pycharm": {
     "name": "#%% md\n"
    }
   }
  },
  {
   "cell_type": "code",
   "execution_count": 1,
   "metadata": {
    "collapsed": true,
    "pycharm": {
     "name": "#%%\n"
    }
   },
   "outputs": [
    {
     "name": "stdout",
     "output_type": "stream",
     "text": [
      "3\n",
      "4\n",
      "0\n",
      "12\n",
      "-13\n"
     ]
    }
   ],
   "source": [
    "\n",
    "print(23 // 7)  #3\n",
    "print(20 // 5)  #4\n",
    "print(2 // 5)  #0\n",
    "print(123 // 10)  #12\n",
    "print(-123 // 10)  #-13"
   ]
  },
  {
   "cell_type": "markdown",
   "source": [
    "#3 Дан ряд примеров.\n",
    " Высчитать остаток от деления и заполнить пропуски"
   ],
   "metadata": {
    "collapsed": false,
    "pycharm": {
     "name": "#%% md\n"
    }
   }
  },
  {
   "cell_type": "code",
   "execution_count": 2,
   "outputs": [
    {
     "name": "stdout",
     "output_type": "stream",
     "text": [
      "2\n",
      "0\n",
      "2\n",
      "3\n"
     ]
    }
   ],
   "source": [
    "print(23 % 7)\n",
    "print(20 % 5)\n",
    "print(2 % 5)\n",
    "print(123 % 10)"
   ],
   "metadata": {
    "collapsed": false,
    "pycharm": {
     "name": "#%%\n"
    }
   }
  },
  {
   "cell_type": "markdown",
   "source": [
    "#4 Что будет выведено на экран если выполнить указанный код?\n",
    "    a = 15 // (16 % 7)\n",
    "    b = 34 % a * 5 - 29 % 5 * 2\n",
    "    print(a + b)"
   ],
   "metadata": {
    "collapsed": false,
    "pycharm": {
     "name": "#%% md\n"
    }
   }
  },
  {
   "cell_type": "code",
   "execution_count": 3,
   "outputs": [
    {
     "name": "stdout",
     "output_type": "stream",
     "text": [
      "29\n"
     ]
    }
   ],
   "source": [
    "a = int((15 // (16 % 7)))\n",
    "b = 34 % a * 5 - 29 % 5 * 2\n",
    "print(a + b)"
   ],
   "metadata": {
    "collapsed": false,
    "pycharm": {
     "name": "#%%\n"
    }
   }
  },
  {
   "cell_type": "markdown",
   "source": [
    "#5 Что будет выведено на экран в результате выполнения следующей программы?\n",
    "\n",
    "    a = 82 // 3 ** 2 % 7\n",
    "    print(a)\n"
   ],
   "metadata": {
    "collapsed": false,
    "pycharm": {
     "name": "#%% md\n"
    }
   }
  },
  {
   "cell_type": "code",
   "execution_count": 4,
   "outputs": [
    {
     "name": "stdout",
     "output_type": "stream",
     "text": [
      "2\n"
     ]
    }
   ],
   "source": [
    "a = 82 // 3 ** 2 % 7\n",
    "print(a)"
   ],
   "metadata": {
    "collapsed": false,
    "pycharm": {
     "name": "#%%\n"
    }
   }
  },
  {
   "cell_type": "markdown",
   "source": [
    "#15 Дано 5значное число n.\n",
    " Выбрать (написать) формулы для получения каждого элемента этого числа"
   ],
   "metadata": {
    "collapsed": false,
    "pycharm": {
     "name": "#%% md\n"
    }
   }
  },
  {
   "cell_type": "code",
   "execution_count": 10,
   "outputs": [
    {
     "name": "stdout",
     "output_type": "stream",
     "text": [
      "1-**-2-**-3-**-4-**-5\n"
     ]
    }
   ],
   "source": [
    "abcde = int(12345)\n",
    "a = abcde // 10000\n",
    "b = abcde % 10000 // 1000\n",
    "c = abcde % 1000 // 100\n",
    "d = abcde %100 //10\n",
    "e = abcde%10\n",
    "print(a, b, c, d, e, sep='-**-')  #создан вывод для проверки работоспособности формул"
   ],
   "metadata": {
    "collapsed": false,
    "pycharm": {
     "name": "#%%\n"
    }
   }
  }
 ],
 "metadata": {
  "kernelspec": {
   "display_name": "Python 3",
   "language": "python",
   "name": "python3"
  },
  "language_info": {
   "codemirror_mode": {
    "name": "ipython",
    "version": 2
   },
   "file_extension": ".py",
   "mimetype": "text/x-python",
   "name": "python",
   "nbconvert_exporter": "python",
   "pygments_lexer": "ipython2",
   "version": "2.7.6"
  }
 },
 "nbformat": 4,
 "nbformat_minor": 0
}