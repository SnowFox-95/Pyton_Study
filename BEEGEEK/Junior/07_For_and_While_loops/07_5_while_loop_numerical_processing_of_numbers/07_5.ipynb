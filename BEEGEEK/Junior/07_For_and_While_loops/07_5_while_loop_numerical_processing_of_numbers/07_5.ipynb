{
 "cells": [
  {
   "cell_type": "markdown",
   "source": [
    "# 2\n",
    "Что покажет приведенный ниже фрагмент кода?\n",
    "\n",
    "num = 12345\n",
    "product = 1\n",
    "while num != 0:\n",
    "    last_digit = num % 10\n",
    "    product = product * last_digit\n",
    "    num = num // 10\n",
    "print(product)"
   ],
   "metadata": {
    "collapsed": false,
    "pycharm": {
     "name": "#%% md\n"
    }
   }
  },
  {
   "cell_type": "code",
   "execution_count": 3,
   "metadata": {
    "collapsed": true,
    "pycharm": {
     "name": "#%%\n"
    }
   },
   "outputs": [
    {
     "name": "stdout",
     "output_type": "stream",
     "text": [
      "120\n"
     ]
    }
   ],
   "source": [
    "num = 12345\n",
    "product = 1\n",
    "while num != 0:\n",
    "    last_digit = num % 10\n",
    "    product = product * last_digit\n",
    "    num = num // 10\n",
    "print(product) # 120"
   ]
  },
  {
   "cell_type": "markdown",
   "source": [
    "# 3\n",
    "Что покажет приведенный ниже фрагмент кода?\n",
    "\n",
    "num = 123456789\n",
    "total = 0\n",
    "while num != 0:\n",
    "    last_digit = num % 10\n",
    "    if last_digit > 4:\n",
    "        total += 1\n",
    "    num = num // 10\n",
    "print(total)"
   ],
   "metadata": {
    "collapsed": false,
    "pycharm": {
     "name": "#%% md\n"
    }
   }
  },
  {
   "cell_type": "code",
   "execution_count": 4,
   "outputs": [
    {
     "name": "stdout",
     "output_type": "stream",
     "text": [
      "5\n"
     ]
    }
   ],
   "source": [
    "num = 123456789\n",
    "total = 0\n",
    "while num != 0:\n",
    "    last_digit = num % 10\n",
    "    if last_digit > 4:\n",
    "        total += 1\n",
    "    num = num // 10\n",
    "print(total)"
   ],
   "metadata": {
    "collapsed": false,
    "pycharm": {
     "name": "#%%\n"
    }
   }
  }
 ],
 "metadata": {
  "kernelspec": {
   "display_name": "Python 3",
   "language": "python",
   "name": "python3"
  },
  "language_info": {
   "codemirror_mode": {
    "name": "ipython",
    "version": 2
   },
   "file_extension": ".py",
   "mimetype": "text/x-python",
   "name": "python",
   "nbconvert_exporter": "python",
   "pygments_lexer": "ipython2",
   "version": "2.7.6"
  }
 },
 "nbformat": 4,
 "nbformat_minor": 0
}