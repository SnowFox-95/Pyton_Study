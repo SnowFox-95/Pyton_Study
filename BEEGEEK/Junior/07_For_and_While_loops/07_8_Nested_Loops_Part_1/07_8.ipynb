{
 "cells": [
  {
   "cell_type": "markdown",
   "source": [
    "#2\n",
    "Установите в каком порядке, указанный вложенный цикл выведет пары чисел (i, j).\n",
    "\n",
    "for i in range(1, 4):\n",
    "    for j in range(3, 6):\n",
    "        print(i, j)"
   ],
   "metadata": {
    "collapsed": false,
    "pycharm": {
     "name": "#%% md\n"
    }
   }
  },
  {
   "cell_type": "code",
   "execution_count": 2,
   "outputs": [
    {
     "name": "stdout",
     "output_type": "stream",
     "text": [
      "1 3\n",
      "1 4\n",
      "1 5\n",
      "2 3\n",
      "2 4\n",
      "2 5\n",
      "3 3\n",
      "3 4\n",
      "3 5\n"
     ]
    }
   ],
   "source": [
    "for i in range(1, 4):\n",
    "    for j in range(3, 6):\n",
    "        print(i, j)"
   ],
   "metadata": {
    "collapsed": false,
    "pycharm": {
     "name": "#%%\n"
    }
   }
  },
  {
   "cell_type": "markdown",
   "source": [
    "#3\n",
    "Что покажет приведенный ниже фрагмент кода?\n",
    "\n",
    "for i in range(1, 4):\n",
    "    for j in range(3, 5):\n",
    "        print(i + j, end='')"
   ],
   "metadata": {
    "collapsed": false,
    "pycharm": {
     "name": "#%% md\n"
    }
   }
  },
  {
   "cell_type": "code",
   "execution_count": 3,
   "outputs": [
    {
     "name": "stdout",
     "output_type": "stream",
     "text": [
      "455667"
     ]
    }
   ],
   "source": [
    "for i in range(1, 4):\n",
    "    for j in range(3, 5):\n",
    "        print(i + j, end='')"
   ],
   "metadata": {
    "collapsed": false,
    "pycharm": {
     "name": "#%%\n"
    }
   }
  },
  {
   "cell_type": "markdown",
   "source": [
    "#4\n",
    "Что покажет приведенный ниже фрагмент кода?\n",
    "\n",
    "counter = 0\n",
    "for i in range(99, 102):\n",
    "    temp = i\n",
    "    while temp > 0:\n",
    "        counter += 1\n",
    "        temp //= 10\n",
    "print(counter)"
   ],
   "metadata": {
    "collapsed": false,
    "pycharm": {
     "name": "#%% md\n"
    }
   }
  },
  {
   "cell_type": "code",
   "execution_count": 4,
   "outputs": [
    {
     "name": "stdout",
     "output_type": "stream",
     "text": [
      "8\n"
     ]
    }
   ],
   "source": [
    "counter = 0\n",
    "for i in range(99, 102):\n",
    "    temp = i\n",
    "    while temp > 0:\n",
    "        counter += 1\n",
    "        temp //= 10\n",
    "print(counter)"
   ],
   "metadata": {
    "collapsed": false,
    "pycharm": {
     "name": "#%%\n"
    }
   }
  },
  {
   "cell_type": "markdown",
   "source": [
    "#11\n",
    "12 месяцев\n",
    "Решите уравнение в натуральных числах 28n + 30 k + 31 m = 365.\n",
    "\n",
    "Примечание. Используйте вложенный цикл for. В первую очередь запишите решение с наименьшим значением n."
   ],
   "metadata": {
    "collapsed": false,
    "pycharm": {
     "name": "#%% md\n"
    }
   }
  },
  {
   "cell_type": "code",
   "execution_count": 2,
   "outputs": [
    {
     "name": "stdout",
     "output_type": "stream",
     "text": [
      "n =  1 k =  4 m =  7\n",
      "n =  2 k =  1 m =  9\n"
     ]
    }
   ],
   "source": [
    "#Определяем границы уравнения\n",
    "#print (365//28) # n<=13\n",
    "#print (365//30) # k<=13\n",
    "#print (365//31) # m<=13\n",
    "\n",
    "for n in range(1, 13):\n",
    "    for k in range(1, 13):\n",
    "        for m in range(1, 13):\n",
    "            if 28 * n + 30 * k + 31 * m == 365:\n",
    "                print('n = ', n, 'k = ', k, 'm = ', m)\n"
   ],
   "metadata": {
    "collapsed": false,
    "pycharm": {
     "name": "#%%\n"
    }
   }
  },
  {
   "cell_type": "markdown",
   "source": [
    "#12\n",
    "Старинная задача\n",
    "Имеется 100 рублей. Сколько быков, коров и телят можно купить на все эти деньги, если плата за быка – 10 рублей, за корову – 5 рублей, за теленка – 0.5 рубля и надо купить 100 голов скота?\n",
    "\n",
    "Примечание. Используйте вложенный цикл for."
   ],
   "metadata": {
    "collapsed": false,
    "pycharm": {
     "name": "#%% md\n"
    }
   }
  },
  {
   "cell_type": "code",
   "execution_count": 5,
   "outputs": [
    {
     "name": "stdout",
     "output_type": "stream",
     "text": [
      "1 9 90\n"
     ]
    }
   ],
   "source": [
    "#Система уравнений 10*bull+5*cow+0.5*calf=100\n",
    "# определяем границы переменных\n",
    "'''print(100//10)\n",
    "print(100//5)\n",
    "print(100//0.5)'''\n",
    "\n",
    "# быков <=10 ; коров <=20;  телят <=200\n",
    "for bull in range (1,10):\n",
    "    for cow in range (1,20):\n",
    "        for calf in range(1,100):\n",
    "            if (10*bull+5*cow+0.5*calf==100) and (bull+cow+calf==100):\n",
    "                print(bull,cow,calf)"
   ],
   "metadata": {
    "collapsed": false,
    "pycharm": {
     "name": "#%%\n"
    }
   }
  },
  {
   "cell_type": "code",
   "execution_count": null,
   "outputs": [],
   "source": [],
   "metadata": {
    "collapsed": false,
    "pycharm": {
     "name": "#%%\n"
    }
   }
  }
 ],
 "metadata": {
  "kernelspec": {
   "display_name": "Python 3",
   "language": "python",
   "name": "python3"
  },
  "language_info": {
   "codemirror_mode": {
    "name": "ipython",
    "version": 2
   },
   "file_extension": ".py",
   "mimetype": "text/x-python",
   "name": "python",
   "nbconvert_exporter": "python",
   "pygments_lexer": "ipython2",
   "version": "2.7.6"
  }
 },
 "nbformat": 4,
 "nbformat_minor": 0
}