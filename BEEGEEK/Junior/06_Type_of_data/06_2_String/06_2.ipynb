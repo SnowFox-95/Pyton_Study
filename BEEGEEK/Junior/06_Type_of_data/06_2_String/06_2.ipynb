{
 "cells": [
  {
   "cell_type": "markdown",
   "source": [
    "#2\n",
    "Что покажет приведенный ниже фрагмент кода?\n",
    "\n",
    "mystr = 'да'\n",
    "mystr = mystr + 'нет'\n",
    "mystr = mystr + 'да'\n",
    "print(mystr)"
   ],
   "metadata": {
    "collapsed": false,
    "pycharm": {
     "name": "#%% md\n"
    }
   }
  },
  {
   "cell_type": "code",
   "execution_count": 18,
   "metadata": {
    "collapsed": true,
    "pycharm": {
     "name": "#%%\n"
    }
   },
   "outputs": [
    {
     "name": "stdout",
     "output_type": "stream",
     "text": [
      "данетда\n"
     ]
    }
   ],
   "source": [
    "mystr = 'да'\n",
    "mystr = mystr + 'нет'\n",
    "mystr = mystr + 'да'\n",
    "print(mystr) #данетда"
   ]
  },
  {
   "cell_type": "markdown",
   "source": [
    "#3\n",
    "Что покажет приведенный ниже фрагмент кода?\n",
    "\n",
    "str1 = '1'\n",
    "str2 = str1 + '2' + str1\n",
    "str3 = str2 + '3' + str2\n",
    "str4 = str3 + '4' + str3\n",
    "print(str4)"
   ],
   "metadata": {
    "collapsed": false,
    "pycharm": {
     "name": "#%% md\n"
    }
   }
  },
  {
   "cell_type": "code",
   "execution_count": 19,
   "outputs": [
    {
     "name": "stdout",
     "output_type": "stream",
     "text": [
      "121312141213121\n"
     ]
    }
   ],
   "source": [
    "str1 = '1'\n",
    "str2 = str1 + '2' + str1\n",
    "str3 = str2 + '3' + str2\n",
    "str4 = str3 + '4' + str3\n",
    "print(str4) #121312141213121"
   ],
   "metadata": {
    "collapsed": false,
    "pycharm": {
     "name": "#%%\n"
    }
   }
  },
  {
   "cell_type": "markdown",
   "source": [
    "#4\n",
    "Что покажет приведенный ниже фрагмент кода?\n",
    "\n",
    "mystr = '123' * 3 + '456' * 2 + '789' * 1\n",
    "print(mystr)"
   ],
   "metadata": {
    "collapsed": false,
    "pycharm": {
     "name": "#%% md\n"
    }
   }
  },
  {
   "cell_type": "code",
   "execution_count": 20,
   "outputs": [
    {
     "name": "stdout",
     "output_type": "stream",
     "text": [
      "123123123456456789\n"
     ]
    }
   ],
   "source": [
    "mystr = '123' * 3 + '456' * 2 + '789' * 1\n",
    "print(mystr) #123123123456456789"
   ],
   "metadata": {
    "collapsed": false,
    "pycharm": {
     "name": "#%%\n"
    }
   }
  },
  {
   "cell_type": "markdown",
   "source": [
    "#11\n",
    "Какие значения может принимать строковая переменная s, чтобы в результате выполнения кода было выведено слово «YES»?\n",
    "\n",
    "if s in 'abc123abc':\n",
    "    print('YES')\n",
    "else:\n",
    "    print('NO')"
   ],
   "metadata": {
    "collapsed": false,
    "pycharm": {
     "name": "#%% md\n"
    }
   }
  },
  {
   "cell_type": "code",
   "execution_count": 21,
   "outputs": [
    {
     "name": "stdout",
     "output_type": "stream",
     "text": [
      "YES\n",
      "NO\n",
      "NO\n",
      "YES\n",
      "YES\n",
      "YES\n",
      "YES\n",
      "NO\n",
      "NO\n"
     ]
    }
   ],
   "source": [
    "##Далее через код в функции func(s) будут прогоняться все варианты ответа на этот тест\n",
    "\n",
    "def func(s):\n",
    "    if s in 'abc123abc':\n",
    "        s1 = 'YES'\n",
    "        return s1\n",
    "    else:\n",
    "        s0= 'NO'\n",
    "        return s0\n",
    "\n",
    "s = 'a'\n",
    "print(func(s)) #YES\n",
    "s = 'bca'\n",
    "print(func(s))\n",
    "s = 'bc2'\n",
    "print(func(s))\n",
    "s = '3ab'\n",
    "print(func(s)) #YES\n",
    "s = '123abc'\n",
    "print(func(s)) #YES\n",
    "s = '23'\n",
    "print(func(s)) #YES\n",
    "s = '1'\n",
    "print(func(s)) #YES\n",
    "s = 'abcabc'\n",
    "print(func(s))\n",
    "s = '321'\n",
    "print(func(s))\n"
   ],
   "metadata": {
    "collapsed": false,
    "pycharm": {
     "name": "#%%\n"
    }
   }
  }
 ],
 "metadata": {
  "kernelspec": {
   "display_name": "Python 3",
   "language": "python",
   "name": "python3"
  },
  "language_info": {
   "codemirror_mode": {
    "name": "ipython",
    "version": 2
   },
   "file_extension": ".py",
   "mimetype": "text/x-python",
   "name": "python",
   "nbconvert_exporter": "python",
   "pygments_lexer": "ipython2",
   "version": "2.7.6"
  }
 },
 "nbformat": 4,
 "nbformat_minor": 0
}