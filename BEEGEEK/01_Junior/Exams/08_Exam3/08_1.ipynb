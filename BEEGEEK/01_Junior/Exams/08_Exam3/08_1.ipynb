{
 "cells": [
  {
   "cell_type": "markdown",
   "source": [
    "#5\n",
    "Определите, что выведет следующий фрагмент кода?\n",
    "\n",
    "for i in range(10, 25):\n",
    "    print('Python awesome!')"
   ],
   "metadata": {
    "collapsed": false,
    "pycharm": {
     "name": "#%% md\n"
    }
   }
  },
  {
   "cell_type": "code",
   "execution_count": 1,
   "metadata": {
    "collapsed": true,
    "pycharm": {
     "name": "#%%\n"
    }
   },
   "outputs": [
    {
     "name": "stdout",
     "output_type": "stream",
     "text": [
      "Python awesome!\n",
      "Python awesome!\n",
      "Python awesome!\n",
      "Python awesome!\n",
      "Python awesome!\n",
      "Python awesome!\n",
      "Python awesome!\n",
      "Python awesome!\n",
      "Python awesome!\n",
      "Python awesome!\n",
      "Python awesome!\n",
      "Python awesome!\n",
      "Python awesome!\n",
      "Python awesome!\n",
      "Python awesome!\n"
     ]
    }
   ],
   "source": [
    "for i in range(10, 25):\n",
    "    print('Python awesome!')  #Вывод сообщения 15 раз в отдельной строке"
   ]
  },
  {
   "cell_type": "markdown",
   "source": [
    "#6\n",
    "Определите какую задачу решает следующий фрагмент кода:\n",
    "\n",
    "n = int(input())\n",
    "counter = 0\n",
    "\n",
    "for i in range(1, n + 1):\n",
    "    if i % 3 == 0 and i % 7 != 0:\n",
    "        counter += 1\n",
    "print(counter)"
   ],
   "metadata": {
    "collapsed": false,
    "pycharm": {
     "name": "#%% md\n"
    }
   }
  },
  {
   "cell_type": "code",
   "execution_count": 3,
   "outputs": [
    {
     "name": "stdout",
     "output_type": "stream",
     "text": [
      "29\n"
     ]
    }
   ],
   "source": [
    "n = int(input())\n",
    "counter = 0\n",
    "\n",
    "for i in range(1, n + 1):\n",
    "    if i % 3 == 0 and i % 7 != 0:\n",
    "        counter += 1\n",
    "print(counter)  #выводит количество чисел от 1 до n кратных 3, но не кратных 7"
   ],
   "metadata": {
    "collapsed": false,
    "pycharm": {
     "name": "#%%\n"
    }
   }
  },
  {
   "cell_type": "markdown",
   "source": [
    "#8\n",
    "Какое число нужно написать вместо многоточия, чтобы цикл выполнился ровно 7 раз?\n",
    "\n",
    "i = ...\n",
    "while i <= 10:\n",
    "    print ('Python!')\n",
    "    i += 1"
   ],
   "metadata": {
    "collapsed": false,
    "pycharm": {
     "name": "#%% md\n"
    }
   }
  },
  {
   "cell_type": "code",
   "execution_count": 5,
   "outputs": [
    {
     "name": "stdout",
     "output_type": "stream",
     "text": [
      "Python!\n",
      "Python!\n",
      "Python!\n",
      "Python!\n",
      "Python!\n",
      "Python!\n",
      "Python!\n"
     ]
    }
   ],
   "source": [
    "i = 4\n",
    "while i <= 10:\n",
    "    print ('Python!')\n",
    "    i += 1"
   ],
   "metadata": {
    "collapsed": false,
    "pycharm": {
     "name": "#%%\n"
    }
   }
  },
  {
   "cell_type": "code",
   "execution_count": null,
   "outputs": [],
   "source": [],
   "metadata": {
    "collapsed": false,
    "pycharm": {
     "name": "#%%\n"
    }
   }
  }
 ],
 "metadata": {
  "kernelspec": {
   "display_name": "Python 3",
   "language": "python",
   "name": "python3"
  },
  "language_info": {
   "codemirror_mode": {
    "name": "ipython",
    "version": 2
   },
   "file_extension": ".py",
   "mimetype": "text/x-python",
   "name": "python",
   "nbconvert_exporter": "python",
   "pygments_lexer": "ipython2",
   "version": "2.7.6"
  }
 },
 "nbformat": 4,
 "nbformat_minor": 0
}