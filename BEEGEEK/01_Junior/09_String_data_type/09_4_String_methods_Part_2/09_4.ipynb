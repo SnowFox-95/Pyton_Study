{
 "cells": [
  {
   "cell_type": "markdown",
   "source": [
    "#2\n",
    "Что покажет приведенный ниже фрагмент кода?\n",
    "\n",
    "s = 'aabbAAccDDaa'\n",
    "s = s.lower()\n",
    "print(s.count('a'))"
   ],
   "metadata": {
    "collapsed": false,
    "pycharm": {
     "name": "#%% md\n"
    }
   }
  },
  {
   "cell_type": "code",
   "execution_count": 1,
   "outputs": [
    {
     "name": "stdout",
     "output_type": "stream",
     "text": [
      "6\n"
     ]
    }
   ],
   "source": [
    "s = 'aabbAAccDDaa'\n",
    "s = s.lower()\n",
    "print(s.count('a'))"
   ],
   "metadata": {
    "collapsed": false,
    "pycharm": {
     "name": "#%%\n"
    }
   }
  },
  {
   "cell_type": "markdown",
   "source": [
    "#3\n",
    "Что покажет приведенный ниже фрагмент кода?\n",
    "\n",
    "s = 'www.stepik.org'\n",
    "print(s.startswith('www'))"
   ],
   "metadata": {
    "collapsed": false,
    "pycharm": {
     "name": "#%% md\n"
    }
   }
  },
  {
   "cell_type": "code",
   "execution_count": 2,
   "outputs": [
    {
     "name": "stdout",
     "output_type": "stream",
     "text": [
      "True\n"
     ]
    }
   ],
   "source": [
    "s = 'www.stepik.org'\n",
    "print(s.startswith('www'))"
   ],
   "metadata": {
    "collapsed": false,
    "pycharm": {
     "name": "#%%\n"
    }
   }
  },
  {
   "cell_type": "markdown",
   "source": [
    "#4\n",
    "Что покажет приведенный ниже фрагмент кода?\n",
    "\n",
    "s = 'www.stepik.org'\n",
    "print(s.endswith('.ru'))"
   ],
   "metadata": {
    "collapsed": false,
    "pycharm": {
     "name": "#%% md\n"
    }
   }
  },
  {
   "cell_type": "code",
   "execution_count": 3,
   "outputs": [
    {
     "name": "stdout",
     "output_type": "stream",
     "text": [
      "False\n"
     ]
    }
   ],
   "source": [
    "s = 'www.stepik.org'\n",
    "print(s.endswith('.ru'))"
   ],
   "metadata": {
    "collapsed": false,
    "pycharm": {
     "name": "#%%\n"
    }
   }
  },
  {
   "cell_type": "markdown",
   "source": [
    "#5\n",
    "Что покажет приведенный ниже фрагмент кода?\n",
    "\n",
    "s = 'I learn Python language. Python - awesome!'\n",
    "print(s.find('Python'))"
   ],
   "metadata": {
    "collapsed": false,
    "pycharm": {
     "name": "#%% md\n"
    }
   }
  },
  {
   "cell_type": "code",
   "execution_count": 4,
   "outputs": [
    {
     "name": "stdout",
     "output_type": "stream",
     "text": [
      "8\n"
     ]
    }
   ],
   "source": [
    "s = 'I learn Python language. Python - awesome!'\n",
    "print(s.find('Python'))"
   ],
   "metadata": {
    "collapsed": false,
    "pycharm": {
     "name": "#%%\n"
    }
   }
  },
  {
   "cell_type": "markdown",
   "source": [
    "#6\n",
    "Что покажет приведенный ниже фрагмент кода?\n",
    "\n",
    "s = '     I learn Python language               '\n",
    "print(s.strip())"
   ],
   "metadata": {
    "collapsed": false,
    "pycharm": {
     "name": "#%% md\n"
    }
   }
  },
  {
   "cell_type": "code",
   "execution_count": 5,
   "outputs": [
    {
     "name": "stdout",
     "output_type": "stream",
     "text": [
      "I learn Python language\n"
     ]
    }
   ],
   "source": [
    "s = '     I learn Python language               '\n",
    "print(s.strip())"
   ],
   "metadata": {
    "collapsed": false,
    "pycharm": {
     "name": "#%%\n"
    }
   }
  },
  {
   "cell_type": "markdown",
   "source": [
    "#7\n",
    "Что покажет приведенный ниже фрагмент кода?\n",
    "\n",
    "s = 'abcdababa'\n",
    "print(s.replace('ab', '123'))"
   ],
   "metadata": {
    "collapsed": false,
    "pycharm": {
     "name": "#%% md\n"
    }
   }
  },
  {
   "cell_type": "code",
   "execution_count": 7,
   "outputs": [
    {
     "name": "stdout",
     "output_type": "stream",
     "text": [
      "123cd123123a\n"
     ]
    }
   ],
   "source": [
    "s = 'abcdababa'\n",
    "print(s.replace('ab', '123'))"
   ],
   "metadata": {
    "collapsed": false,
    "pycharm": {
     "name": "#%%\n"
    }
   }
  }
 ],
 "metadata": {
  "kernelspec": {
   "display_name": "Python 3",
   "language": "python",
   "name": "python3"
  },
  "language_info": {
   "codemirror_mode": {
    "name": "ipython",
    "version": 2
   },
   "file_extension": ".py",
   "mimetype": "text/x-python",
   "name": "python",
   "nbconvert_exporter": "python",
   "pygments_lexer": "ipython2",
   "version": "2.7.6"
  }
 },
 "nbformat": 4,
 "nbformat_minor": 0
}