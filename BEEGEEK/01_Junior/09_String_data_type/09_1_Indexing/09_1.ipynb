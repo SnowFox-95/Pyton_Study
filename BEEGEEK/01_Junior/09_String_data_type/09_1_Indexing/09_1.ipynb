{
 "cells": [
  {
   "cell_type": "markdown",
   "source": [
    "#2 Что покажет приведенный ниже фрагмент кода?\n",
    "\n",
    "s = 'abcdefg'\n",
    "print(s[0] + s[2] + s[4] + s[6])\n"
   ],
   "metadata": {
    "collapsed": false,
    "pycharm": {
     "name": "#%% md\n"
    }
   }
  },
  {
   "cell_type": "code",
   "execution_count": 1,
   "outputs": [
    {
     "name": "stdout",
     "output_type": "stream",
     "text": [
      "aceg\n"
     ]
    }
   ],
   "source": [
    "s = 'abcdefg'\n",
    "print(s[0] + s[2] + s[4] + s[6])"
   ],
   "metadata": {
    "collapsed": false,
    "pycharm": {
     "name": "#%%\n"
    }
   }
  },
  {
   "cell_type": "markdown",
   "source": [
    "#3 Что покажет приведенный ниже фрагмент кода?\n",
    "s = 'abcdefg'\n",
    "print(s[0]*3 + s[-1]*3 + s[3]*2 + s[3]*2)"
   ],
   "metadata": {
    "collapsed": false,
    "pycharm": {
     "name": "#%% md\n"
    }
   }
  },
  {
   "cell_type": "code",
   "execution_count": 2,
   "metadata": {
    "collapsed": true,
    "pycharm": {
     "name": "#%%\n"
    }
   },
   "outputs": [
    {
     "name": "stdout",
     "output_type": "stream",
     "text": [
      "aaagggdddd\n"
     ]
    }
   ],
   "source": [
    "s = 'abcdefg'\n",
    "print(s[0] * 3 + s[-1] * 3 + s[3] * 2 + s[3] * 2)"
   ]
  },
  {
   "cell_type": "markdown",
   "source": [
    "#4 Что покажет приведенный ниже фрагмент кода?\n",
    "\n",
    "s = '01234567891011121314151617'\n",
    "for i in range(0, len(s), 5):\n",
    "    print(s[i], end='')"
   ],
   "metadata": {
    "collapsed": false,
    "pycharm": {
     "name": "#%% md\n"
    }
   }
  },
  {
   "cell_type": "code",
   "execution_count": 3,
   "outputs": [
    {
     "name": "stdout",
     "output_type": "stream",
     "text": [
      "051217"
     ]
    }
   ],
   "source": [
    "s = '01234567891011121314151617'\n",
    "for i in range(0, len(s), 5):\n",
    "    print(s[i], end='')"
   ],
   "metadata": {
    "collapsed": false,
    "pycharm": {
     "name": "#%%\n"
    }
   }
  }
 ],
 "metadata": {
  "kernelspec": {
   "display_name": "Python 3",
   "language": "python",
   "name": "python3"
  },
  "language_info": {
   "codemirror_mode": {
    "name": "ipython",
    "version": 2
   },
   "file_extension": ".py",
   "mimetype": "text/x-python",
   "name": "python",
   "nbconvert_exporter": "python",
   "pygments_lexer": "ipython2",
   "version": "2.7.6"
  }
 },
 "nbformat": 4,
 "nbformat_minor": 0
}