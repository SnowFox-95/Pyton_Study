{
 "cells": [
  {
   "cell_type": "markdown",
   "source": [
    "#2\n",
    "Что покажет приведенный ниже фрагмент кода?\n",
    "\n",
    "for i in range(10):\n",
    "    print(i, end='*')\n",
    "    if i > 6:\n",
    "        break"
   ],
   "metadata": {
    "collapsed": false,
    "pycharm": {
     "name": "#%% md\n"
    }
   }
  },
  {
   "cell_type": "code",
   "execution_count": 1,
   "metadata": {
    "collapsed": true,
    "pycharm": {
     "name": "#%%\n"
    }
   },
   "outputs": [
    {
     "name": "stdout",
     "output_type": "stream",
     "text": [
      "0*1*2*3*4*5*6*7*"
     ]
    }
   ],
   "source": [
    "for i in range(10):\n",
    "    print(i, end='*')\n",
    "    if i > 6:\n",
    "        break"
   ]
  },
  {
   "cell_type": "markdown",
   "source": [
    "#3\n",
    "Что покажет приведенный ниже фрагмент кода?\n",
    "\n",
    "i = 100\n",
    "while i > 0:\n",
    "    if i == 40:\n",
    "        break\n",
    "    print(i, end='*')\n",
    "    i -= 20"
   ],
   "metadata": {
    "collapsed": false,
    "pycharm": {
     "name": "#%% md\n"
    }
   }
  },
  {
   "cell_type": "code",
   "execution_count": 2,
   "outputs": [
    {
     "name": "stdout",
     "output_type": "stream",
     "text": [
      "100*80*60*"
     ]
    }
   ],
   "source": [
    "i = 100\n",
    "while i > 0:\n",
    "    if i == 40:\n",
    "        break\n",
    "    print(i, end='*')\n",
    "    i -= 20"
   ],
   "metadata": {
    "collapsed": false,
    "pycharm": {
     "name": "#%%\n"
    }
   }
  },
  {
   "cell_type": "markdown",
   "source": [
    "#4\n",
    "Что покажет приведенный ниже фрагмент кода?\n",
    "\n",
    "n = 10\n",
    "while n > 0:\n",
    "    n -= 1\n",
    "    if n == 2:\n",
    "        continue\n",
    "    print(n, end='*')"
   ],
   "metadata": {
    "collapsed": false,
    "pycharm": {
     "name": "#%% md\n"
    }
   }
  },
  {
   "cell_type": "code",
   "execution_count": 3,
   "outputs": [
    {
     "name": "stdout",
     "output_type": "stream",
     "text": [
      "9*8*7*6*5*4*3*1*0*"
     ]
    }
   ],
   "source": [
    "n = 10\n",
    "while n > 0:\n",
    "    n -= 1\n",
    "    if n == 2:\n",
    "        continue\n",
    "    print(n, end='*')"
   ],
   "metadata": {
    "collapsed": false,
    "pycharm": {
     "name": "#%%\n"
    }
   }
  },
  {
   "cell_type": "markdown",
   "source": [
    "#5\n",
    " Что покажет приведенный ниже фрагмент кода?\n",
    "\n",
    "result = 0\n",
    "for i in range(10):\n",
    "    if i % 2 == 0:\n",
    "        continue\n",
    "    result += i\n",
    "print(result)"
   ],
   "metadata": {
    "collapsed": false,
    "pycharm": {
     "name": "#%% md\n"
    }
   }
  },
  {
   "cell_type": "code",
   "execution_count": 4,
   "outputs": [
    {
     "name": "stdout",
     "output_type": "stream",
     "text": [
      "25\n"
     ]
    }
   ],
   "source": [
    "result = 0\n",
    "for i in range(10):\n",
    "    if i % 2 == 0:\n",
    "        continue\n",
    "    result += i\n",
    "print(result)"
   ],
   "metadata": {
    "collapsed": false,
    "pycharm": {
     "name": "#%%\n"
    }
   }
  },
  {
   "cell_type": "markdown",
   "source": [
    "#6\n",
    " Что покажет приведенный ниже фрагмент кода?\n",
    "\n",
    "mult = 1\n",
    "for i in range(1, 11):\n",
    "   if i % 2 == 0:\n",
    "      continue\n",
    "   if i % 9 == 0:\n",
    "      break\n",
    "   mult *= i\n",
    "print(mult)"
   ],
   "metadata": {
    "collapsed": false,
    "pycharm": {
     "name": "#%% md\n"
    }
   }
  },
  {
   "cell_type": "code",
   "execution_count": 5,
   "outputs": [
    {
     "name": "stdout",
     "output_type": "stream",
     "text": [
      "105\n"
     ]
    }
   ],
   "source": [
    "mult = 1\n",
    "for i in range(1, 11):\n",
    "   if i % 2 == 0:\n",
    "      continue\n",
    "   if i % 9 == 0:\n",
    "      break\n",
    "   mult *= i\n",
    "print(mult)"
   ],
   "metadata": {
    "collapsed": false,
    "pycharm": {
     "name": "#%%\n"
    }
   }
  },
  {
   "cell_type": "markdown",
   "source": [
    "#10\n",
    "Будет ли выполнен блок кода else, в приведенном ниже фрагменте кода?\n",
    "\n",
    "n = 0\n",
    "while n < 10:\n",
    "    n += 2\n",
    "    print(n)\n",
    "else:\n",
    "    print('Цикл завершен.')"
   ],
   "metadata": {
    "collapsed": false,
    "pycharm": {
     "name": "#%% md\n"
    }
   }
  },
  {
   "cell_type": "code",
   "execution_count": 6,
   "outputs": [
    {
     "name": "stdout",
     "output_type": "stream",
     "text": [
      "2\n",
      "4\n",
      "6\n",
      "8\n",
      "10\n",
      "Цикл завершен.\n"
     ]
    }
   ],
   "source": [
    "n = 0\n",
    "while n < 10:\n",
    "    n += 2\n",
    "    print(n)\n",
    "else:\n",
    "    print('Цикл завершен.')\n",
    "\n",
    "#Yes"
   ],
   "metadata": {
    "collapsed": false,
    "pycharm": {
     "name": "#%%\n"
    }
   }
  },
  {
   "cell_type": "markdown",
   "source": [
    "#11\n",
    " Будет ли выполнен блок кода else, в приведенном ниже фрагменте кода?\n",
    "\n",
    "n = 0\n",
    "while n < 10:\n",
    "    n += 2\n",
    "    if n == 8:\n",
    "        break\n",
    "    print(n)\n",
    "else:\n",
    "    print('Цикл завершен.')\n",
    "\n"
   ],
   "metadata": {
    "collapsed": false,
    "pycharm": {
     "name": "#%% md\n"
    }
   }
  },
  {
   "cell_type": "code",
   "execution_count": 7,
   "outputs": [
    {
     "name": "stdout",
     "output_type": "stream",
     "text": [
      "2\n",
      "4\n",
      "6\n"
     ]
    }
   ],
   "source": [
    "n = 0\n",
    "while n < 10:\n",
    "    n += 2\n",
    "    if n == 8:\n",
    "        break\n",
    "    print(n)\n",
    "else:\n",
    "    print('Цикл завершен.')\n",
    "\n",
    "#No"
   ],
   "metadata": {
    "collapsed": false,
    "pycharm": {
     "name": "#%%\n"
    }
   }
  },
  {
   "cell_type": "markdown",
   "source": [
    "#12\n",
    "Будет ли выполнен блок кода else, в приведенном ниже фрагменте кода?\n",
    "\n",
    "n = 0\n",
    "while n < 10:\n",
    "    n += 2\n",
    "    if n == 7:\n",
    "        break\n",
    "    print(n)\n",
    "else:\n",
    "    print('Цикл завершен.')"
   ],
   "metadata": {
    "collapsed": false,
    "pycharm": {
     "name": "#%% md\n"
    }
   }
  },
  {
   "cell_type": "code",
   "execution_count": 8,
   "outputs": [
    {
     "name": "stdout",
     "output_type": "stream",
     "text": [
      "2\n",
      "4\n",
      "6\n",
      "8\n",
      "10\n",
      "Цикл завершен.\n"
     ]
    }
   ],
   "source": [
    "n = 0\n",
    "while n < 10:\n",
    "    n += 2\n",
    "    if n == 7:\n",
    "        break\n",
    "    print(n)\n",
    "else:\n",
    "    print('Цикл завершен.')\n",
    "\n",
    "#yes"
   ],
   "metadata": {
    "collapsed": false,
    "pycharm": {
     "name": "#%%\n"
    }
   }
  }
 ],
 "metadata": {
  "kernelspec": {
   "display_name": "Python 3",
   "language": "python",
   "name": "python3"
  },
  "language_info": {
   "codemirror_mode": {
    "name": "ipython",
    "version": 2
   },
   "file_extension": ".py",
   "mimetype": "text/x-python",
   "name": "python",
   "nbconvert_exporter": "python",
   "pygments_lexer": "ipython2",
   "version": "2.7.6"
  }
 },
 "nbformat": 4,
 "nbformat_minor": 0
}