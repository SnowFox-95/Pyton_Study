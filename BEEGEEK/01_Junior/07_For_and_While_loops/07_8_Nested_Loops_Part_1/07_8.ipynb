{
 "cells": [
  {
   "cell_type": "markdown",
   "source": [
    "#2\n",
    "Установите в каком порядке, указанный вложенный цикл выведет пары чисел (i, j).\n",
    "\n",
    "for i in range(1, 4):\n",
    "    for j in range(3, 6):\n",
    "        print(i, j)"
   ],
   "metadata": {
    "collapsed": false,
    "pycharm": {
     "name": "#%% md\n"
    }
   }
  },
  {
   "cell_type": "code",
   "execution_count": 9,
   "outputs": [
    {
     "name": "stdout",
     "output_type": "stream",
     "text": [
      "1 3\n",
      "1 4\n",
      "1 5\n",
      "2 3\n",
      "2 4\n",
      "2 5\n",
      "3 3\n",
      "3 4\n",
      "3 5\n"
     ]
    }
   ],
   "source": [
    "for i in range(1, 4):\n",
    "    for j in range(3, 6):\n",
    "        print(i, j)"
   ],
   "metadata": {
    "collapsed": false,
    "pycharm": {
     "name": "#%%\n"
    }
   }
  },
  {
   "cell_type": "markdown",
   "source": [
    "#3\n",
    "Что покажет приведенный ниже фрагмент кода?\n",
    "\n",
    "for i in range(1, 4):\n",
    "    for j in range(3, 5):\n",
    "        print(i + j, end='')"
   ],
   "metadata": {
    "collapsed": false,
    "pycharm": {
     "name": "#%% md\n"
    }
   }
  },
  {
   "cell_type": "code",
   "execution_count": 10,
   "outputs": [
    {
     "name": "stdout",
     "output_type": "stream",
     "text": [
      "455667"
     ]
    }
   ],
   "source": [
    "for i in range(1, 4):\n",
    "    for j in range(3, 5):\n",
    "        print(i + j, end='')"
   ],
   "metadata": {
    "collapsed": false,
    "pycharm": {
     "name": "#%%\n"
    }
   }
  },
  {
   "cell_type": "markdown",
   "source": [
    "#4\n",
    "Что покажет приведенный ниже фрагмент кода?\n",
    "\n",
    "counter = 0\n",
    "for i in range(99, 102):\n",
    "    temp = i\n",
    "    while temp > 0:\n",
    "        counter += 1\n",
    "        temp //= 10\n",
    "print(counter)"
   ],
   "metadata": {
    "collapsed": false,
    "pycharm": {
     "name": "#%% md\n"
    }
   }
  },
  {
   "cell_type": "code",
   "execution_count": 11,
   "outputs": [
    {
     "name": "stdout",
     "output_type": "stream",
     "text": [
      "8\n"
     ]
    }
   ],
   "source": [
    "counter = 0\n",
    "for i in range(99, 102):\n",
    "    temp = i\n",
    "    while temp > 0:\n",
    "        counter += 1\n",
    "        temp //= 10\n",
    "print(counter)"
   ],
   "metadata": {
    "collapsed": false,
    "pycharm": {
     "name": "#%%\n"
    }
   }
  },
  {
   "cell_type": "markdown",
   "source": [
    "#11\n",
    "12 месяцев\n",
    "Решите уравнение в натуральных числах 28n + 30 k + 31 m = 365.\n",
    "\n",
    "Примечание. Используйте вложенный цикл for. В первую очередь запишите решение с наименьшим значением n."
   ],
   "metadata": {
    "collapsed": false,
    "pycharm": {
     "name": "#%% md\n"
    }
   }
  },
  {
   "cell_type": "code",
   "execution_count": 12,
   "outputs": [
    {
     "name": "stdout",
     "output_type": "stream",
     "text": [
      "n =  1 k =  4 m =  7\n",
      "n =  2 k =  1 m =  9\n"
     ]
    }
   ],
   "source": [
    "#Определяем границы уравнения\n",
    "#print (365//28) # n<=13\n",
    "#print (365//30) # k<=13\n",
    "#print (365//31) # m<=13\n",
    "\n",
    "for n in range(1, 13):\n",
    "    for k in range(1, 13):\n",
    "        for m in range(1, 13):\n",
    "            if 28 * n + 30 * k + 31 * m == 365:\n",
    "                print('n = ', n, 'k = ', k, 'm = ', m)\n"
   ],
   "metadata": {
    "collapsed": false,
    "pycharm": {
     "name": "#%%\n"
    }
   }
  },
  {
   "cell_type": "markdown",
   "source": [
    "#12\n",
    "Старинная задача\n",
    "Имеется 100 рублей. Сколько быков, коров и телят можно купить на все эти деньги, если плата за быка – 10 рублей, за корову – 5 рублей, за теленка – 0.5 рубля и надо купить 100 голов скота?\n",
    "\n",
    "Примечание. Используйте вложенный цикл for."
   ],
   "metadata": {
    "collapsed": false,
    "pycharm": {
     "name": "#%% md\n"
    }
   }
  },
  {
   "cell_type": "code",
   "execution_count": 13,
   "outputs": [
    {
     "name": "stdout",
     "output_type": "stream",
     "text": [
      "1 9 90\n"
     ]
    }
   ],
   "source": [
    "#Система уравнений 10*bull+5*cow+0.5*calf=100\n",
    "# определяем границы переменных\n",
    "#print(100//10)\n",
    "#print(100//5)\n",
    "#print(100//0.5)\n",
    "# быков <=10 ; коров <=20;  телят <=200\n",
    "for bull in range (1,10):\n",
    "    for cow in range (1,20):\n",
    "        for calf in range(1,100): # телят можно до 200 взять, однако у нас есть\n",
    "            # ограничение в 100 голов\n",
    "            if (10*bull+5*cow+0.5*calf==100) and (bull+cow+calf==100):\n",
    "                print(bull,cow,calf)"
   ],
   "metadata": {
    "collapsed": false,
    "pycharm": {
     "name": "#%%\n"
    }
   }
  },
  {
   "cell_type": "markdown",
   "source": [
    "#13\n",
    "Гипотеза Эйлера о сумме степеней 🌶️🌶️\n",
    "В 1769 году Леонард Эйлер сформулировал обобщенную версию Великой теоремы Ферма, предполагая, что по крайней мере nn энных степеней необходимо для получения суммы, которая сама является энной степенью для n > 2n>2. Напишите программу для опровержения гипотезы Эйлера (продержавшейся до 1967 года), и найдите четыре положительных целых числа, сумма 5-х степеней которых равна 5-й степени другого положительного целого числа.\n",
    "\n",
    "Таким образом, найдите пять натуральных чисел a,b,c,d,e удовлетворяющих условию:\n",
    "a^5+b^5+c^5+d^5=e^5.\n",
    "\n",
    "В ответе укажите сумму a+b+c+d+e.\n",
    "\n",
    "Примечание 1. Используйте вложенный цикл for.\n",
    "\n",
    "Примечание 2. Считайте, что числа a, b, c, d, e не превосходят 150.\n",
    "\n",
    "Примечание 3. Программа может работать дольше чем обычно. В зависимости от способа решения задачи на выполнение программы может уходить до нескольких минут. Попробуйте сократить количество вложенных циклов."
   ],
   "metadata": {
    "collapsed": false,
    "pycharm": {
     "name": "#%% md\n"
    }
   }
  },
  {
   "cell_type": "code",
   "execution_count": 14,
   "outputs": [
    {
     "name": "stdout",
     "output_type": "stream",
     "text": [
      "498\n"
     ]
    }
   ],
   "source": [
    "sum = 0\n",
    "for a in range(1,28):\n",
    "    for b in range(80,87):\n",
    "        for c in range(100,115):\n",
    "            for d in range(125,133):\n",
    "                for e in range(135,140):\n",
    "                    if a**5+b**5+c**5+d**5==e**5:\n",
    "                        sum = a+b+c+d+e\n",
    "                    else:\n",
    "                        continue\n",
    "\n",
    "\n",
    "\n",
    "#27**5 + 84**5 + 110**5 + 133**5 = 144**5\n",
    "\n",
    "print(27+84+110+133+144)"
   ],
   "metadata": {
    "collapsed": false,
    "pycharm": {
     "name": "#%%\n"
    }
   }
  },
  {
   "cell_type": "code",
   "execution_count": 14,
   "outputs": [],
   "source": [],
   "metadata": {
    "collapsed": false,
    "pycharm": {
     "name": "#%%\n"
    }
   }
  }
 ],
 "metadata": {
  "kernelspec": {
   "display_name": "Python 3",
   "language": "python",
   "name": "python3"
  },
  "language_info": {
   "codemirror_mode": {
    "name": "ipython",
    "version": 2
   },
   "file_extension": ".py",
   "mimetype": "text/x-python",
   "name": "python",
   "nbconvert_exporter": "python",
   "pygments_lexer": "ipython2",
   "version": "2.7.6"
  }
 },
 "nbformat": 4,
 "nbformat_minor": 0
}