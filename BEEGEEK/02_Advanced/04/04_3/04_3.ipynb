{
 "cells": [
  {
   "cell_type": "markdown",
   "source": [
    "4.3.2\n",
    "Что покажет приведенный ниже фрагмент кода?\n",
    "\n",
    "    list1 = [[1, 2, 3], [4, 5]]\n",
    "    list2 = list1\n",
    "    list1[0].append(7)\n",
    "    print(list2)"
   ],
   "metadata": {
    "collapsed": false
   }
  },
  {
   "cell_type": "code",
   "execution_count": 1,
   "metadata": {
    "collapsed": true
   },
   "outputs": [
    {
     "name": "stdout",
     "output_type": "stream",
     "text": [
      "[[1, 2, 3, 7], [4, 5]]\n"
     ]
    }
   ],
   "source": [
    "list1 = [[1, 2, 3], [4, 5]]\n",
    "list2 = list1\n",
    "list1[0].append(7)\n",
    "print(list2)"
   ]
  },
  {
   "cell_type": "markdown",
   "source": [
    "4.3.3\n",
    "Чему будет равно list1[1][1] после выполнения следующего фрагмента кода:\n",
    "\n",
    "    list1 = [[1] * 3] * 3\n",
    "    list1[0][1] = 5"
   ],
   "metadata": {
    "collapsed": false
   }
  },
  {
   "cell_type": "code",
   "execution_count": 2,
   "outputs": [
    {
     "name": "stdout",
     "output_type": "stream",
     "text": [
      "5\n"
     ]
    }
   ],
   "source": [
    "list1 = [[1] * 3] * 3\n",
    "list1[0][1] = 5\n",
    "print(list1[1][1])"
   ],
   "metadata": {
    "collapsed": false
   }
  },
  {
   "cell_type": "markdown",
   "source": [
    "4.3.4 Что покажет приведенный ниже фрагмент кода\n",
    "\n",
    "    n = 3\n",
    "    list1 = []\n",
    "    for _ in range(n):\n",
    "        row = input().split()\n",
    "        list1.extend(row)\n",
    "    print(list1)\n",
    "\n",
    "если на вход программе подаются строки:\n",
    "\n",
    "    9 7 6\n",
    "    2 1\n",
    "    3 4 45 67"
   ],
   "metadata": {
    "collapsed": false
   }
  },
  {
   "cell_type": "code",
   "execution_count": 4,
   "outputs": [
    {
     "name": "stdout",
     "output_type": "stream",
     "text": [
      "['9', '7', '6', '2', '1', '3', '4', '45', '67']\n"
     ]
    }
   ],
   "source": [
    "n = 3\n",
    "list1 = []\n",
    "for _ in range(n):\n",
    "    row = input().split()\n",
    "    list1.extend(row)\n",
    "print(list1)"
   ],
   "metadata": {
    "collapsed": false
   }
  },
  {
   "cell_type": "markdown",
   "source": [
    "4.3.5\n",
    "Какой тип данных будет у переменной row?\n",
    "\n",
    "    my_list = [[1], [2, 3], [4, 5, 6]]\n",
    "    total = 0\n",
    "    for row in my_list:\n",
    "        total += sum(row)\n",
    "    print(total)"
   ],
   "metadata": {
    "collapsed": false
   }
  },
  {
   "cell_type": "code",
   "execution_count": 6,
   "outputs": [
    {
     "name": "stdout",
     "output_type": "stream",
     "text": [
      "21\n",
      "<class 'list'>\n"
     ]
    }
   ],
   "source": [
    "my_list = [[1], [2, 3], [4, 5, 6]]\n",
    "total = 0\n",
    "for row in my_list:\n",
    "    total += sum(row)\n",
    "print(total)\n",
    "\n",
    "rowtype = type(row)\n",
    "print(rowtype)"
   ],
   "metadata": {
    "collapsed": false
   }
  },
  {
   "cell_type": "markdown",
   "source": [
    "4.3.6\n",
    "Что покажет приведенный ниже фрагмент кода?\n",
    "\n",
    "    my_list = [[12, 221, 3], [41, 5, 633], [71, 8, 99]]\n",
    "    maximum = my_list[0][0]\n",
    "    minimum = my_list[0][0]\n",
    "    for row in my_list:\n",
    "        maximum = max(row)\n",
    "        minimum = min(row)\n",
    "    print(maximum + minimum)\n"
   ],
   "metadata": {
    "collapsed": false
   }
  },
  {
   "cell_type": "code",
   "execution_count": 7,
   "outputs": [
    {
     "name": "stdout",
     "output_type": "stream",
     "text": [
      "107\n"
     ]
    }
   ],
   "source": [
    "my_list = [[12, 221, 3], [41, 5, 633], [71, 8, 99]]\n",
    "maximum = my_list[0][0]\n",
    "minimum = my_list[0][0]\n",
    "for row in my_list:\n",
    "    maximum = max(row)\n",
    "    minimum = min(row)\n",
    "print(maximum + minimum)"
   ],
   "metadata": {
    "collapsed": false
   }
  },
  {
   "cell_type": "markdown",
   "source": [
    "Что покажет приведенный ниже фрагмент кода?\n",
    "\n",
    "    my_list = [[12, 221, 3], [41, 5, 633], [71, 8, 99]]\n",
    "\n",
    "    maximum = my_list[0][0]\n",
    "    minimum = my_list[0][0]\n",
    "\n",
    "    for row in my_list:\n",
    "        if max(row) > maximum:\n",
    "            maximum = max(row)\n",
    "        if min(row) < minimum:\n",
    "            minimum = min(row)\n",
    "\n",
    "    print(maximum + minimum)"
   ],
   "metadata": {
    "collapsed": false
   }
  },
  {
   "cell_type": "code",
   "execution_count": 8,
   "outputs": [
    {
     "name": "stdout",
     "output_type": "stream",
     "text": [
      "636\n"
     ]
    }
   ],
   "source": [
    "my_list = [[12, 221, 3], [41, 5, 633], [71, 8, 99]]\n",
    "\n",
    "maximum = my_list[0][0]\n",
    "minimum = my_list[0][0]\n",
    "\n",
    "for row in my_list:\n",
    "    if max(row) > maximum:\n",
    "        maximum = max(row)\n",
    "    if min(row) < minimum:\n",
    "        minimum = min(row)\n",
    "\n",
    "print(maximum + minimum)"
   ],
   "metadata": {
    "collapsed": false
   }
  },
  {
   "cell_type": "code",
   "execution_count": null,
   "outputs": [],
   "source": [],
   "metadata": {
    "collapsed": false
   }
  }
 ],
 "metadata": {
  "kernelspec": {
   "display_name": "Python 3",
   "language": "python",
   "name": "python3"
  },
  "language_info": {
   "codemirror_mode": {
    "name": "ipython",
    "version": 2
   },
   "file_extension": ".py",
   "mimetype": "text/x-python",
   "name": "python",
   "nbconvert_exporter": "python",
   "pygments_lexer": "ipython2",
   "version": "2.7.6"
  }
 },
 "nbformat": 4,
 "nbformat_minor": 0
}
