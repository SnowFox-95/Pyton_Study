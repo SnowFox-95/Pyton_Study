{
 "cells": [
  {
   "cell_type": "markdown",
   "source": [
    "Тест по теме \"Списки\". В данном файле находятся решенные задачи используемые для прохождения теста."
   ],
   "metadata": {
    "collapsed": false,
    "pycharm": {
     "name": "#%% md\n"
    }
   }
  },
  {
   "cell_type": "markdown",
   "source": [
    "4.1.3.\n",
    "Тимур создал список задач для своего лучшего урока математики.\n",
    "В этот список входят:\n",
    "    - планиметрия,\n",
    "    - стереометрия,\n",
    "    - задача с параметром,\n",
    "    - экономическая задача,\n",
    "    - задача на теорию чисел.\n",
    "\n",
    "Далее он проделал со списком несколько действий:\n",
    "\n",
    "Добавил в конец списка новую тему – уравнение;\n",
    "Удалил из списка третью тему;\n",
    "Добавил в конец списка новую тему – неравенство;\n",
    "Удалил из списка первую тему.\n",
    "\n",
    "Определите, какой элемент стоит на втором по порядку месте в получившемся списке."
   ],
   "metadata": {
    "collapsed": false,
    "pycharm": {
     "name": "#%% md\n"
    }
   }
  },
  {
   "cell_type": "code",
   "execution_count": 12,
   "outputs": [
    {
     "name": "stdout",
     "output_type": "stream",
     "text": [
      "экономическая задача\n"
     ]
    }
   ],
   "source": [
    "list413= ['планиметрия', 'стереометрия', 'задача с параметром', 'экономическая задача', 'задача на теорию чисел',\n",
    "          'уравнение']\n",
    "list413.pop(2)\n",
    "list413.append('неравенство')\n",
    "list413.pop(0)\n",
    "print(list413[1]) # экономическая задача"
   ],
   "metadata": {
    "collapsed": false,
    "pycharm": {
     "name": "#%%\n"
    }
   }
  },
  {
   "cell_type": "markdown",
   "source": [
    "4.1.4\n",
    "Выберите правильный способ соединения (конкатенации) двух списков list1 и list2:\n",
    "\n",
    "list1 = ['a', 'b', 'c', 'd']\n",
    "list2 = ['e', 'f', 'g']\n",
    "Результатом должен быть список:\n",
    "\n",
    "list3 = ['a', 'b', 'c', 'd', 'e', 'f', 'g']\n"
   ],
   "metadata": {
    "collapsed": false,
    "pycharm": {
     "name": "#%% md\n"
    }
   }
  },
  {
   "cell_type": "code",
   "execution_count": 13,
   "outputs": [
    {
     "name": "stdout",
     "output_type": "stream",
     "text": [
      "['a', 'b', 'c', 'd', 'e', 'f', 'g']\n"
     ]
    }
   ],
   "source": [
    "list1 = ['a', 'b', 'c', 'd']\n",
    "list2 = ['e', 'f', 'g']\n",
    "list3 = list1 + list2  #это и есть решение\n",
    "print(list3) # вывод для проверки"
   ],
   "metadata": {
    "collapsed": false,
    "pycharm": {
     "name": "#%%\n"
    }
   }
  },
  {
   "cell_type": "markdown",
   "source": [
    "4.1.5\n",
    "\n",
    "Что выведет следующий код?\n",
    "\n",
    "zeros = [0] * 10\n",
    "print(len(zeros))\n"
   ],
   "metadata": {
    "collapsed": false,
    "pycharm": {
     "name": "#%% md\n"
    }
   }
  },
  {
   "cell_type": "code",
   "execution_count": 14,
   "outputs": [
    {
     "name": "stdout",
     "output_type": "stream",
     "text": [
      "10\n"
     ]
    }
   ],
   "source": [
    "zeros = [0] * 10\n",
    "print(len(zeros)) # 10"
   ],
   "metadata": {
    "collapsed": false,
    "pycharm": {
     "name": "#%%\n"
    }
   }
  },
  {
   "cell_type": "markdown",
   "source": [
    "Что выведет следующий код?\n",
    "\n",
    "numbers = [10, 20, 30, 40, 50]\n",
    "print(numbers[-2])\n",
    "print(numbers[-4:-1])\n"
   ],
   "metadata": {
    "collapsed": false,
    "pycharm": {
     "name": "#%% md\n"
    }
   }
  },
  {
   "cell_type": "code",
   "execution_count": 15,
   "outputs": [
    {
     "name": "stdout",
     "output_type": "stream",
     "text": [
      "40\n",
      "[20, 30, 40]\n"
     ]
    }
   ],
   "source": [
    "numbers = [10, 20, 30, 40, 50]\n",
    "print(numbers[-2]) # 40\n",
    "print(numbers[-4:-1]) # [20, 30, 40]"
   ],
   "metadata": {
    "collapsed": false,
    "pycharm": {
     "name": "#%%\n"
    }
   }
  }
 ],
 "metadata": {
  "kernelspec": {
   "display_name": "Python 3",
   "language": "python",
   "name": "python3"
  },
  "language_info": {
   "codemirror_mode": {
    "name": "ipython",
    "version": 2
   },
   "file_extension": ".py",
   "mimetype": "text/x-python",
   "name": "python",
   "nbconvert_exporter": "python",
   "pygments_lexer": "ipython2",
   "version": "2.7.6"
  }
 },
 "nbformat": 4,
 "nbformat_minor": 0
}