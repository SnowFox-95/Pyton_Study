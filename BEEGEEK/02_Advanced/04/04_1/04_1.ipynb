{
 "cells": [
  {
   "cell_type": "markdown",
   "source": [
    "Тест по теме \"Списки\". В данном файле находятся решенные задачи используемые для прохождения теста."
   ],
   "metadata": {
    "collapsed": false
   }
  },
  {
   "cell_type": "markdown",
   "source": [
    "4.1.3\n",
    "Тимур создал список задач для своего лучшего урока математики. В этот список входят:\n",
    "    - планиметрия,\n",
    "    - стереометрия,\n",
    "    - задача с параметром,\n",
    "    - экономическая задача,\n",
    "    -задача на теорию чисел.\n",
    "\n",
    "Далее он проделал со списком несколько действий:\n",
    "\n",
    "Добавил в конец списка новую тему – уравнение;\n",
    "Удалил из списка третью тему;\n",
    "Добавил в конец списка новую тему – неравенство;\n",
    "Удалил из списка первую тему.\n",
    "Определите, какой элемент стоит на втором по порядку месте в получившемся списке.\n"
   ],
   "metadata": {
    "collapsed": false
   }
  },
  {
   "cell_type": "code",
   "execution_count": 44,
   "outputs": [
    {
     "name": "stdout",
     "output_type": "stream",
     "text": [
      "экономическая задача\n"
     ]
    }
   ],
   "source": [
    "list413 = ['планиметрия', 'стереометрия', 'задача с параметром', 'экономическая задача', 'задача на теорию чисел',\n",
    "           'уравнение']\n",
    "list413.pop(2)\n",
    "list413.append('неравенство')\n",
    "list413.pop(0)\n",
    "print(list413[1])  # экономическая задача"
   ],
   "metadata": {
    "collapsed": false
   }
  },
  {
   "cell_type": "markdown",
   "source": [
    "4.1.4\n",
    "Выберите правильный способ соединения (конкатенации) двух списков list1 и list2:\n",
    "\n",
    "    list1 = ['a', 'b', 'c', 'd']\n",
    "    list2 = ['e', 'f', 'g']\n",
    "Результатом должен быть список:\n",
    "\n",
    "    list3 = ['a', 'b', 'c', 'd', 'e', 'f', 'g']\n"
   ],
   "metadata": {
    "collapsed": false
   }
  },
  {
   "cell_type": "code",
   "execution_count": 45,
   "outputs": [
    {
     "name": "stdout",
     "output_type": "stream",
     "text": [
      "['a', 'b', 'c', 'd', 'e', 'f', 'g']\n"
     ]
    }
   ],
   "source": [
    "list1 = ['a', 'b', 'c', 'd']\n",
    "list2 = ['e', 'f', 'g']\n",
    "list3 = list1 + list2  #это и есть решение\n",
    "print(list3)  # вывод для проверки"
   ],
   "metadata": {
    "collapsed": false
   }
  },
  {
   "cell_type": "markdown",
   "source": [
    "4.1.5\n",
    "\n",
    "Что выведет следующий код?\n",
    "\n",
    "    zeros = [0] * 10\n",
    "    print(len(zeros))\n"
   ],
   "metadata": {
    "collapsed": false
   }
  },
  {
   "cell_type": "code",
   "execution_count": 46,
   "outputs": [
    {
     "name": "stdout",
     "output_type": "stream",
     "text": [
      "10\n"
     ]
    }
   ],
   "source": [
    "zeros = [0] * 10\n",
    "print(len(zeros))  # 10"
   ],
   "metadata": {
    "collapsed": false
   }
  },
  {
   "cell_type": "markdown",
   "source": [
    "4.1.6\n",
    "Что выведет следующий код?\n",
    "\n",
    "    numbers = [10, 20, 30, 40, 50]\n",
    "    print(numbers[-2])\n",
    "    print(numbers[-4:-1])\n"
   ],
   "metadata": {
    "collapsed": false
   }
  },
  {
   "cell_type": "code",
   "execution_count": 47,
   "outputs": [
    {
     "name": "stdout",
     "output_type": "stream",
     "text": [
      "40\n",
      "[20, 30, 40]\n"
     ]
    }
   ],
   "source": [
    "numbers = [10, 20, 30, 40, 50]\n",
    "print(numbers[-2])  # 40\n",
    "print(numbers[-4:-1])  # [20, 30, 40]"
   ],
   "metadata": {
    "collapsed": false
   }
  },
  {
   "cell_type": "markdown",
   "source": [
    "4.1.7\n",
    "Что выведет следующий код?\n",
    "\n",
    "    numbers = [10, 20, 30, 40, 50, 60, 70, 80]\n",
    "    print(numbers[2:5])\n",
    "    print(numbers[:4])\n",
    "    print(numbers[3:])"
   ],
   "metadata": {
    "collapsed": false
   }
  },
  {
   "cell_type": "code",
   "execution_count": 48,
   "outputs": [
    {
     "name": "stdout",
     "output_type": "stream",
     "text": [
      "[30, 40, 50]\n",
      "[10, 20, 30, 40]\n",
      "[40, 50, 60, 70, 80]\n"
     ]
    }
   ],
   "source": [
    "numbers = [10, 20, 30, 40, 50, 60, 70, 80]\n",
    "print(numbers[2:5])  # [30, 40, 50]\n",
    "print(numbers[:4])  # [10, 20, 30, 40]\n",
    "print(numbers[3:])  # [40, 50, 60, 70, 80]"
   ],
   "metadata": {
    "collapsed": false
   }
  },
  {
   "cell_type": "markdown",
   "source": [
    "4.1.8\n",
    "Что выведет следующий код?\n",
    "\n",
    "    numbers = [4, 8, 12, 16, 34, 56, 100]\n",
    "    numbers[1:4] = [20, 24, 28]\n",
    "    print(numbers)"
   ],
   "metadata": {
    "collapsed": false
   }
  },
  {
   "cell_type": "code",
   "execution_count": 49,
   "outputs": [
    {
     "name": "stdout",
     "output_type": "stream",
     "text": [
      "[4, 20, 24, 28, 34, 56, 100]\n"
     ]
    }
   ],
   "source": [
    "numbers = [4, 8, 12, 16, 34, 56, 100]\n",
    "numbers[1:4] = [20, 24, 28]\n",
    "print(numbers)"
   ],
   "metadata": {
    "collapsed": false
   }
  },
  {
   "cell_type": "markdown",
   "source": [
    "4.1.9\n",
    "Что выведет следующий код?\n",
    "\n",
    "    numbers = [5, 10, 15, 25]\n",
    "    print(numbers[::-2])"
   ],
   "metadata": {
    "collapsed": false
   }
  },
  {
   "cell_type": "code",
   "execution_count": 50,
   "outputs": [
    {
     "name": "stdout",
     "output_type": "stream",
     "text": [
      "[25, 10]\n"
     ]
    }
   ],
   "source": [
    "numbers = [5, 10, 15, 25]\n",
    "print(numbers[::-2])"
   ],
   "metadata": {
    "collapsed": false
   }
  },
  {
   "cell_type": "markdown",
   "source": [
    "4.1.10\n",
    "Что выведет следующий код?\n",
    "\n",
    "    numbers = [10, 20, 30, 40, 50]\n",
    "    numbers.append(60)\n",
    "    print(numbers)\n",
    "\n",
    "    numbers.append(60)\n",
    "    print(numbers)"
   ],
   "metadata": {
    "collapsed": false
   }
  },
  {
   "cell_type": "code",
   "execution_count": 51,
   "outputs": [
    {
     "name": "stdout",
     "output_type": "stream",
     "text": [
      "[10, 20, 30, 40, 50, 60]\n",
      "[10, 20, 30, 40, 50, 60, 60]\n"
     ]
    }
   ],
   "source": [
    "numbers = [10, 20, 30, 40, 50]\n",
    "numbers.append(60)\n",
    "print(numbers)\n",
    "\n",
    "numbers.append(60)\n",
    "print(numbers)"
   ],
   "metadata": {
    "collapsed": false
   }
  },
  {
   "cell_type": "markdown",
   "source": [
    "4.1.11\n",
    "Что выведет следующий код?\n",
    "\n",
    "    numbers = [10, 20, 30, 40, 50]\n",
    "    numbers.pop()\n",
    "    print(numbers)\n",
    "\n",
    "    numbers.pop(2)\n",
    "    print(numbers)"
   ],
   "metadata": {
    "collapsed": false
   }
  },
  {
   "cell_type": "code",
   "execution_count": 52,
   "outputs": [
    {
     "name": "stdout",
     "output_type": "stream",
     "text": [
      "[10, 20, 30, 40]\n",
      "[10, 20, 40]\n"
     ]
    }
   ],
   "source": [
    "numbers = [10, 20, 30, 40, 50]\n",
    "numbers.pop()\n",
    "print(numbers)\n",
    "\n",
    "numbers.pop(2)\n",
    "print(numbers)"
   ],
   "metadata": {
    "collapsed": false
   }
  },
  {
   "cell_type": "markdown",
   "source": [
    "4.1.13\n",
    "Что выведет следующий код?\n",
    "\n",
    "    words = ['Hello', 'Python']\n",
    "    print('-'.join(words))"
   ],
   "metadata": {
    "collapsed": false
   }
  },
  {
   "cell_type": "code",
   "execution_count": 53,
   "outputs": [
    {
     "name": "stdout",
     "output_type": "stream",
     "text": [
      "Hello-Python\n"
     ]
    }
   ],
   "source": [
    "words = ['Hello', 'Python']\n",
    "print('-'.join(words))"
   ],
   "metadata": {
    "collapsed": false
   }
  },
  {
   "cell_type": "markdown",
   "source": [
    "4.1.14\n",
    "Что выведет следующий код?\n",
    "\n",
    "    numbers = [10, 20, 30, 40]\n",
    "    del numbers[0:6]\n",
    "    print(numbers)"
   ],
   "metadata": {
    "collapsed": false
   }
  },
  {
   "cell_type": "code",
   "execution_count": 54,
   "outputs": [
    {
     "name": "stdout",
     "output_type": "stream",
     "text": [
      "[]\n"
     ]
    }
   ],
   "source": [
    "numbers = [10, 20, 30, 40]\n",
    "del numbers[0:6]\n",
    "print(numbers)"
   ],
   "metadata": {
    "collapsed": false
   }
  },
  {
   "cell_type": "markdown",
   "source": [
    "4.1.15\n",
    "Что выведет следующий код?\n",
    "\n",
    "    words = ['xyz', 'zara', 'beegeek']\n",
    "    print(max(words))"
   ],
   "metadata": {
    "collapsed": false
   }
  },
  {
   "cell_type": "code",
   "execution_count": 55,
   "outputs": [
    {
     "name": "stdout",
     "output_type": "stream",
     "text": [
      "zara\n"
     ]
    }
   ],
   "source": [
    "words = ['xyz', 'zara', 'beegeek']\n",
    "print(max(words))"
   ],
   "metadata": {
    "collapsed": false
   }
  },
  {
   "cell_type": "markdown",
   "source": [
    "4.1.16\n",
    "Что выведет следующий код?\n",
    "\n",
    "    numbers = [1, 2, 3, 4, 5, 6, 7]\n",
    "    new_numbers =  [2 * x for x in numbers]\n",
    "    print(new_numbers)"
   ],
   "metadata": {
    "collapsed": false
   }
  },
  {
   "cell_type": "code",
   "execution_count": 56,
   "outputs": [
    {
     "name": "stdout",
     "output_type": "stream",
     "text": [
      "[2, 4, 6, 8, 10, 12, 14]\n"
     ]
    }
   ],
   "source": [
    "numbers = [1, 2, 3, 4, 5, 6, 7]\n",
    "new_numbers = [2 * x for x in numbers]\n",
    "print(new_numbers)"
   ],
   "metadata": {
    "collapsed": false
   }
  }
 ],
 "metadata": {
  "kernelspec": {
   "display_name": "Python 3",
   "language": "python",
   "name": "python3"
  },
  "language_info": {
   "codemirror_mode": {
    "name": "ipython",
    "version": 2
   },
   "file_extension": ".py",
   "mimetype": "text/x-python",
   "name": "python",
   "nbconvert_exporter": "python",
   "pygments_lexer": "ipython2",
   "version": "2.7.6"
  }
 },
 "nbformat": 4,
 "nbformat_minor": 0
}
