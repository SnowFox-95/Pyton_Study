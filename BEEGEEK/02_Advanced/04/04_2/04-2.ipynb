{
 "cells": [
  {
   "cell_type": "markdown",
   "source": [
    "04.2.2\n",
    "Что покажет приведенный ниже фрагмент кода?\n",
    "\n",
    "    list1 = [[1, 8, 9], [4, 8, 12, 16], [0, 2, 7]]\n",
    "    print(list1[0][1] + list1[1][2] + list1[2][2])"
   ],
   "metadata": {
    "collapsed": false
   }
  },
  {
   "cell_type": "code",
   "execution_count": 1,
   "metadata": {
    "collapsed": true
   },
   "outputs": [
    {
     "name": "stdout",
     "output_type": "stream",
     "text": [
      "27\n"
     ]
    }
   ],
   "source": [
    "list1 = [[1, 8, 9], [4, 8, 12, 16], [0, 2, 7]]\n",
    "print(list1[0][1] + list1[1][2] + list1[2][2])"
   ]
  },
  {
   "cell_type": "markdown",
   "source": [
    "04.2.3\n",
    "Что покажет приведенный ниже фрагмент кода?\n",
    "\n",
    "    list1 = [[1, 8, 9], [4, 8, 12, 16], [0, 2, 7]]\n",
    "    print(list1[0][1] + list1[3][2] + list1[2][2])"
   ],
   "metadata": {
    "collapsed": false
   }
  },
  {
   "cell_type": "code",
   "execution_count": 2,
   "outputs": [
    {
     "ename": "IndexError",
     "evalue": "list index out of range",
     "output_type": "error",
     "traceback": [
      "\u001B[1;31m---------------------------------------------------------------------------\u001B[0m",
      "\u001B[1;31mIndexError\u001B[0m                                Traceback (most recent call last)",
      "Input \u001B[1;32mIn [2]\u001B[0m, in \u001B[0;36m<cell line: 2>\u001B[1;34m()\u001B[0m\n\u001B[0;32m      1\u001B[0m list1 \u001B[38;5;241m=\u001B[39m [[\u001B[38;5;241m1\u001B[39m, \u001B[38;5;241m8\u001B[39m, \u001B[38;5;241m9\u001B[39m], [\u001B[38;5;241m4\u001B[39m, \u001B[38;5;241m8\u001B[39m, \u001B[38;5;241m12\u001B[39m, \u001B[38;5;241m16\u001B[39m], [\u001B[38;5;241m0\u001B[39m, \u001B[38;5;241m2\u001B[39m, \u001B[38;5;241m7\u001B[39m]]\n\u001B[1;32m----> 2\u001B[0m \u001B[38;5;28mprint\u001B[39m(list1[\u001B[38;5;241m0\u001B[39m][\u001B[38;5;241m1\u001B[39m] \u001B[38;5;241m+\u001B[39m \u001B[43mlist1\u001B[49m\u001B[43m[\u001B[49m\u001B[38;5;241;43m3\u001B[39;49m\u001B[43m]\u001B[49m[\u001B[38;5;241m2\u001B[39m] \u001B[38;5;241m+\u001B[39m list1[\u001B[38;5;241m2\u001B[39m][\u001B[38;5;241m2\u001B[39m])\n",
      "\u001B[1;31mIndexError\u001B[0m: list index out of range"
     ]
    }
   ],
   "source": [
    "list1 = [[1, 8, 9], [4, 8, 12, 16], [0, 2, 7]]\n",
    "print(list1[0][1] + list1[3][2] + list1[2][2])"
   ],
   "metadata": {
    "collapsed": false
   }
  },
  {
   "cell_type": "markdown",
   "source": [
    "4.2.4\n",
    "Что покажет приведенный ниже фрагмент кода?\n",
    "\n",
    "    list1 = ['Beegeek', [4, 8, 12, 16]]\n",
    "    print(list1[0][1])\n",
    "    print(list1[1][3])"
   ],
   "metadata": {
    "collapsed": false
   }
  },
  {
   "cell_type": "code",
   "execution_count": 3,
   "outputs": [
    {
     "name": "stdout",
     "output_type": "stream",
     "text": [
      "e\n",
      "16\n"
     ]
    }
   ],
   "source": [
    "list1 = ['Beegeek', [4, 8, 12, 16]]\n",
    "print(list1[0][1])\n",
    "print(list1[1][3])"
   ],
   "metadata": {
    "collapsed": false
   }
  },
  {
   "cell_type": "markdown",
   "source": [
    "Задан список:\n",
    "\n",
    "    list1 = [[0, [9, 2]], [1, [4, 6, 3], [5, 2, 3], 8, 3]]\n",
    "\n",
    "Чему равно значение list1[1][2][1]?"
   ],
   "metadata": {
    "collapsed": false
   }
  },
  {
   "cell_type": "code",
   "execution_count": 4,
   "outputs": [
    {
     "name": "stdout",
     "output_type": "stream",
     "text": [
      "2\n"
     ]
    }
   ],
   "source": [
    "list1 = [[0, [9, 2]], [1, [4, 6, 3], [5, 2, 3], 8, 3]]\n",
    "print(list1[1][2][1])"
   ],
   "metadata": {
    "collapsed": false
   }
  },
  {
   "cell_type": "markdown",
   "source": [
    "4.2.6\n",
    "Задан список:\n",
    "\n",
    "    list1 = [[1, 2, 3], [4, 5], [8], [1, 2, 3, 4]]\n",
    "\n",
    "Чему равно значение len(list1)?"
   ],
   "metadata": {
    "collapsed": false
   }
  },
  {
   "cell_type": "code",
   "execution_count": 5,
   "outputs": [
    {
     "name": "stdout",
     "output_type": "stream",
     "text": [
      "4\n"
     ]
    }
   ],
   "source": [
    "list1 = [[1, 2, 3], [4, 5], [8], [1, 2, 3, 4]]\n",
    "print(len(list1))"
   ],
   "metadata": {
    "collapsed": false
   }
  },
  {
   "cell_type": "markdown",
   "source": [
    "4.2.7\n",
    "Задан список:\n",
    "\n",
    "    list1 = [[[1, 1, 0], [0, 1, 1]], [[0, 1], [1, 1], [1, 0]]]\n",
    "\n",
    "Чему равно значение len(list1)?"
   ],
   "metadata": {
    "collapsed": false
   }
  },
  {
   "cell_type": "code",
   "execution_count": 6,
   "outputs": [
    {
     "name": "stdout",
     "output_type": "stream",
     "text": [
      "2\n"
     ]
    }
   ],
   "source": [
    "list1 = [[[1, 1, 0], [0, 1, 1]], [[0, 1], [1, 1], [1, 0]]]\n",
    "print(len(list1))"
   ],
   "metadata": {
    "collapsed": false
   }
  },
  {
   "cell_type": "markdown",
   "source": [
    "4.2.8\n",
    "Что покажет приведенный ниже фрагмент кода?\n",
    "\n",
    "    list1 = [[1, 8, 7, 4], [1, 3, 4, 5], [2, 7, 2], [2, 6, 7, 8]]\n",
    "    list1.reverse()\n",
    "    print(list1)"
   ],
   "metadata": {
    "collapsed": false
   }
  },
  {
   "cell_type": "code",
   "execution_count": 7,
   "outputs": [
    {
     "name": "stdout",
     "output_type": "stream",
     "text": [
      "[[2, 6, 7, 8], [2, 7, 2], [1, 3, 4, 5], [1, 8, 7, 4]]\n"
     ]
    }
   ],
   "source": [
    "list1 = [[1, 8, 7, 4], [1, 3, 4, 5], [2, 7, 2], [2, 6, 7, 8]]\n",
    "list1.reverse()\n",
    "print(list1)"
   ],
   "metadata": {
    "collapsed": false
   }
  },
  {
   "cell_type": "markdown",
   "source": [
    "4.2.9\n",
    "Что покажет приведенный ниже фрагмент кода?\n",
    "\n",
    "    list1 = [[1, 8, 7, 4], [1, 3, 4, 5, 6], [2, 7, 2], [2, 6, 7, 8]]\n",
    "    print(max(list1))"
   ],
   "metadata": {
    "collapsed": false
   }
  },
  {
   "cell_type": "code",
   "execution_count": 8,
   "outputs": [
    {
     "name": "stdout",
     "output_type": "stream",
     "text": [
      "[2, 7, 2]\n"
     ]
    }
   ],
   "source": [
    "list1 = [[1, 8, 7, 4], [1, 3, 4, 5, 6], [2, 7, 2], [2, 6, 7, 8]]\n",
    "print(max(list1))"
   ],
   "metadata": {
    "collapsed": false
   }
  },
  {
   "cell_type": "markdown",
   "source": [
    "4.2.10\n",
    "Что покажет приведенный ниже фрагмент кода?\n",
    "\n",
    "    list1 = [[1, 8, 7, 4], [1, 3, 4, 5, 6], [2, 7, 2], [2, 6, 7, 8]]\n",
    "    del list1[1]\n",
    "    print(list1)"
   ],
   "metadata": {
    "collapsed": false
   }
  },
  {
   "cell_type": "code",
   "execution_count": 9,
   "outputs": [
    {
     "name": "stdout",
     "output_type": "stream",
     "text": [
      "[[1, 8, 7, 4], [2, 7, 2], [2, 6, 7, 8]]\n"
     ]
    }
   ],
   "source": [
    "list1 = [[1, 8, 7, 4], [1, 3, 4, 5, 6], [2, 7, 2], [2, 6, 7, 8]]\n",
    "del list1[1]\n",
    "print(list1)"
   ],
   "metadata": {
    "collapsed": false
   }
  },
  {
   "cell_type": "markdown",
   "source": [
    "4.2.11\n",
    "Что покажет приведенный ниже фрагмент кода?\n",
    "\n",
    "    list1 = [[1, 8, 7, 4], [1, 3, 4, 5, 6], [2, 7, 2], [2, 6, 7, 8]]\n",
    "    del list1[1][1]\n",
    "    print(list1)"
   ],
   "metadata": {
    "collapsed": false
   }
  },
  {
   "cell_type": "code",
   "execution_count": 10,
   "outputs": [
    {
     "name": "stdout",
     "output_type": "stream",
     "text": [
      "[[1, 8, 7, 4], [1, 4, 5, 6], [2, 7, 2], [2, 6, 7, 8]]\n"
     ]
    }
   ],
   "source": [
    "list1 = [[1, 8, 7, 4], [1, 3, 4, 5, 6], [2, 7, 2], [2, 6, 7, 8]]\n",
    "del list1[1][1]\n",
    "print(list1)"
   ],
   "metadata": {
    "collapsed": false
   }
  }
 ],
 "metadata": {
  "kernelspec": {
   "display_name": "Python 3",
   "language": "python",
   "name": "python3"
  },
  "language_info": {
   "codemirror_mode": {
    "name": "ipython",
    "version": 2
   },
   "file_extension": ".py",
   "mimetype": "text/x-python",
   "name": "python",
   "nbconvert_exporter": "python",
   "pygments_lexer": "ipython2",
   "version": "2.7.6"
  }
 },
 "nbformat": 4,
 "nbformat_minor": 0
}
