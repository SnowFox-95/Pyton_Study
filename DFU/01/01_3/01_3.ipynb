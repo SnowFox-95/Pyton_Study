{
 "cells": [
  {
   "cell_type": "markdown",
   "source": [
    "#10\n",
    "Дана функция\n",
    "\n",
    "def compute_resist(r_1, r_2):\n",
    "   r = r_1 * r_2 / (r_1 + r_2)\n",
    "   return r\n",
    "\n",
    "Какое значение получит переменная res после выполнения следующего оператора:\n",
    "\n",
    "res = compute_resist(14.0, 12.0)"
   ],
   "metadata": {
    "collapsed": false,
    "pycharm": {
     "name": "#%% md\n"
    }
   }
  },
  {
   "cell_type": "code",
   "execution_count": 1,
   "outputs": [
    {
     "name": "stdout",
     "output_type": "stream",
     "text": [
      "6.461538461538462\n"
     ]
    }
   ],
   "source": [
    "def compute_resist(r_1, r_2):\n",
    "\n",
    "   r = r_1 * r_2 / (r_1 + r_2)\n",
    "\n",
    "   return r\n",
    "res = compute_resist(14.0, 12.0)\n",
    "print(res)"
   ],
   "metadata": {
    "collapsed": false,
    "pycharm": {
     "name": "#%%\n"
    }
   }
  },
  {
   "cell_type": "markdown",
   "source": [
    "#11"
   ],
   "metadata": {
    "collapsed": false,
    "pycharm": {
     "name": "#%% md\n"
    }
   }
  },
  {
   "cell_type": "code",
   "execution_count": 2,
   "outputs": [
    {
     "ename": "ValueError",
     "evalue": "could not convert string to float: ''",
     "output_type": "error",
     "traceback": [
      "\u001B[1;31m---------------------------------------------------------------------------\u001B[0m",
      "\u001B[1;31mValueError\u001B[0m                                Traceback (most recent call last)",
      "Input \u001B[1;32mIn [2]\u001B[0m, in \u001B[0;36m<cell line: 14>\u001B[1;34m()\u001B[0m\n\u001B[0;32m     11\u001B[0m     angle_rad \u001B[38;5;241m=\u001B[39m acos((a_1 \u001B[38;5;241m*\u001B[39m\u001B[38;5;241m*\u001B[39m \u001B[38;5;241m2\u001B[39m \u001B[38;5;241m+\u001B[39m a_2 \u001B[38;5;241m*\u001B[39m\u001B[38;5;241m*\u001B[39m \u001B[38;5;241m2\u001B[39m \u001B[38;5;241m-\u001B[39m a_3 \u001B[38;5;241m*\u001B[39m\u001B[38;5;241m*\u001B[39m \u001B[38;5;241m2\u001B[39m)\u001B[38;5;241m/\u001B[39m(\u001B[38;5;241m2\u001B[39m \u001B[38;5;241m*\u001B[39m a_1 \u001B[38;5;241m*\u001B[39m a_2))\n\u001B[0;32m     12\u001B[0m     \u001B[38;5;28;01mreturn\u001B[39;00m degrees(angle_rad)\n\u001B[1;32m---> 14\u001B[0m x_a \u001B[38;5;241m=\u001B[39m \u001B[38;5;28;43mfloat\u001B[39;49m\u001B[43m(\u001B[49m\u001B[38;5;28;43minput\u001B[39;49m\u001B[43m(\u001B[49m\u001B[38;5;124;43m\"\u001B[39;49m\u001B[38;5;124;43mx_a = \u001B[39;49m\u001B[38;5;124;43m\"\u001B[39;49m\u001B[43m)\u001B[49m\u001B[43m)\u001B[49m\n\u001B[0;32m     15\u001B[0m y_a \u001B[38;5;241m=\u001B[39m \u001B[38;5;28mfloat\u001B[39m(\u001B[38;5;28minput\u001B[39m(\u001B[38;5;124m\"\u001B[39m\u001B[38;5;124my_a = \u001B[39m\u001B[38;5;124m\"\u001B[39m))\n\u001B[0;32m     16\u001B[0m x_b \u001B[38;5;241m=\u001B[39m \u001B[38;5;28mfloat\u001B[39m(\u001B[38;5;28minput\u001B[39m(\u001B[38;5;124m\"\u001B[39m\u001B[38;5;124mx_b = \u001B[39m\u001B[38;5;124m\"\u001B[39m))\n",
      "\u001B[1;31mValueError\u001B[0m: could not convert string to float: ''"
     ]
    }
   ],
   "source": [
    "from math import sqrt, acos, degrees\n",
    "\n",
    "def compute_len(x_0,y_0,x_1,y_1):\n",
    "    len_line = sqrt((x_1 - x_0) ** 2 + (y_1 - y_0) ** 2)\n",
    "    return len_line\n",
    "def compute_area(a_1, a_2, a_3):\n",
    "    p = (a_1 + a_2 + a_3) / 2\n",
    "    area = sqrt(p * (p - a_1) * (p - a_2) * (p - a_3))\n",
    "    return area\n",
    "def compute_angle(a_1, a_2, a_3):\n",
    "    angle_rad = acos((a_1 ** 2 + a_2 ** 2 - a_3 ** 2)/(2 * a_1 * a_2))\n",
    "    return degrees(angle_rad)\n",
    "\n",
    "x_a = float(input(\"x_a = \"))\n",
    "y_a = float(input(\"y_a = \"))\n",
    "x_b = float(input(\"x_b = \"))\n",
    "y_b = float(input(\"y_b = \"))\n",
    "x_c = float(input(\"x_c = \"))\n",
    "y_c = float(input(\"y_c = \"))\n",
    "\n",
    "c = compute_len(x_a, y_a, x_b, y_b)\n",
    "a = compute_len(x_b, y_b, x_c, y_c)\n",
    "b = compute_len(x_a, y_a, x_c, y_c)\n",
    "\n",
    "if a + b <= c or b + c <= a or a +c <= b:\n",
    "   print(\"Треугольник не существует\")\n",
    "else:\n",
    "    s = compute_area(a, b,c)\n",
    "    p = a + b + c\n",
    "    angle_A = compute_angle(c, b, a)\n",
    "    angle_B = compute_angle(c, a, b)\n",
    "    angle_C = compute_angle(a, b, c)\n",
    "    print(\"Стороны : \", round(a, 3), round(b, 3), round(c, 3))\n",
    "    print(\"Площадь : \", round(s,3))\n",
    "    print(\"Периметр : \", round(p,3))\n",
    "    print(\"Углы : \", round(angle_A, 3), round(angle_B, 3), round(angle_C, 3))\n"
   ],
   "metadata": {
    "collapsed": false,
    "pycharm": {
     "name": "#%%\n"
    }
   }
  },
  {
   "cell_type": "markdown",
   "source": [
    "#12 tests"
   ],
   "metadata": {
    "collapsed": false,
    "pycharm": {
     "name": "#%% md\n"
    }
   }
  },
  {
   "cell_type": "code",
   "execution_count": 5,
   "outputs": [
    {
     "name": "stdout",
     "output_type": "stream",
     "text": [
      "#1\n",
      "Стороны :  10.0 11.18 11.18\n",
      "Площадь :  50.0\n",
      "Периметр :  32.361\n",
      "Углы :  53.13 63.435 63.435\n",
      "#2\n",
      "Треугольник не существует\n",
      "#3\n",
      "Стороны :  1.0 1.414 1.0\n",
      "Площадь :  0.5\n",
      "Периметр :  3.414\n",
      "Углы :  45.0 90.0 45.0\n",
      "#4\n",
      "Стороны :  9.055 14.318 8.062\n",
      "Площадь :  33.5\n",
      "Периметр :  31.435\n",
      "Углы :  35.48 113.405 31.115\n",
      "#5\n",
      "Стороны :  10.14 6.946 16.309\n",
      "Площадь :  20.375\n",
      "Периметр :  33.395\n",
      "Углы :  21.083 14.266 144.651\n"
     ]
    }
   ],
   "source": [
    "from math import sqrt, acos, degrees\n",
    "\n",
    "def compute_len(x_0,y_0,x_1,y_1):\n",
    "    len_line = sqrt((x_1 - x_0) ** 2 + (y_1 - y_0) ** 2)\n",
    "    return len_line\n",
    "def compute_area(a_1, a_2, a_3):\n",
    "    p = (a_1 + a_2 + a_3) / 2\n",
    "    area = sqrt(p * (p - a_1) * (p - a_2) * (p - a_3))\n",
    "    return area\n",
    "def compute_angle(a_1, a_2, a_3):\n",
    "    angle_rad = acos((a_1 ** 2 + a_2 ** 2 - a_3 ** 2)/(2 * a_1 * a_2))\n",
    "    return degrees(angle_rad)\n",
    "def code(x_a,y_a,x_b,y_b,x_c,y_c): #для упрощения отладки сам код выведен в отдельную функцию\n",
    "    c = compute_len(x_a, y_a, x_b, y_b)\n",
    "    a = compute_len(x_b, y_b, x_c, y_c)\n",
    "    b = compute_len(x_a, y_a, x_c, y_c)\n",
    "\n",
    "    if a + b <= c or b + c <= a or a +c <= b:\n",
    "        print(\"Треугольник не существует\")\n",
    "    else:\n",
    "        s = compute_area(a, b,c)\n",
    "        p = a + b + c\n",
    "        angle_A = compute_angle(c, b, a)\n",
    "        angle_B = compute_angle(c, a, b)\n",
    "        angle_C = compute_angle(a, b, c)\n",
    "        print(\"Стороны : \", round(a, 3), round(b, 3), round(c, 3))\n",
    "        print(\"Площадь : \", round(s,3))\n",
    "        print(\"Периметр : \", round(p,3))\n",
    "        print(\"Углы : \", round(angle_A, 3), round(angle_B, 3), round(angle_C, 3))\n",
    "print('#1')\n",
    "x_a = 0\n",
    "y_a = 10\n",
    "x_b = -5\n",
    "y_b = 0\n",
    "x_c = 5\n",
    "y_c = 0\n",
    "code(x_a,y_a,x_b,y_b,x_c,y_c)\n",
    "print('#2')\n",
    "x_a = 0\n",
    "y_a = 0\n",
    "x_b = 1\n",
    "y_b = 1\n",
    "x_c = 2\n",
    "y_c = 2\n",
    "code(x_a,y_a,x_b,y_b,x_c,y_c)\n",
    "print('#3')\n",
    "x_a = 0\n",
    "y_a = 1\n",
    "x_b = 0\n",
    "y_b = 0\n",
    "x_c = 1\n",
    "y_c = 0\n",
    "code(x_a,y_a,x_b,y_b,x_c,y_c)\n",
    "print('#4')\n",
    "x_a = 12\n",
    "y_a = -5\n",
    "x_b = 5\n",
    "y_b = -1\n",
    "x_c = 6\n",
    "y_c = 8\n",
    "code(x_a,y_a,x_b,y_b,x_c,y_c)\n",
    "print('#5')\n",
    "x_a = 0\n",
    "y_a = 7\n",
    "x_b = 2.6\n",
    "y_b = -9.1\n",
    "x_c = 3.5\n",
    "y_c = 1\n",
    "code(x_a,y_a,x_b,y_b,x_c,y_c)"
   ],
   "metadata": {
    "collapsed": false,
    "pycharm": {
     "name": "#%%\n"
    }
   }
  }
 ],
 "metadata": {
  "kernelspec": {
   "display_name": "Python 3",
   "language": "python",
   "name": "python3"
  },
  "language_info": {
   "codemirror_mode": {
    "name": "ipython",
    "version": 2
   },
   "file_extension": ".py",
   "mimetype": "text/x-python",
   "name": "python",
   "nbconvert_exporter": "python",
   "pygments_lexer": "ipython2",
   "version": "2.7.6"
  }
 },
 "nbformat": 4,
 "nbformat_minor": 0
}