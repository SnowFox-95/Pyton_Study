{
 "cells": [
  {
   "cell_type": "markdown",
   "source": [
    "#10\n",
    "Задание\n",
    "Вычислите значения выражений и занесите ответы в соответствующие поля.  Вещественные числа округлите до двух знаков после запятой, в качестве разделителя используйте точку, для логических выражений в поле занесите True или False.\n",
    "\n",
    "x = 5\n",
    "\n",
    "y = 3"
   ],
   "metadata": {
    "collapsed": false,
    "pycharm": {
     "name": "#%% md\n"
    }
   }
  },
  {
   "cell_type": "code",
   "execution_count": 3,
   "metadata": {
    "collapsed": true,
    "pycharm": {
     "name": "#%%\n"
    }
   },
   "outputs": [
    {
     "name": "stdout",
     "output_type": "stream",
     "text": [
      "14\n",
      "45\n",
      "120\n",
      "5\n",
      "4.666666666666667\n",
      "5.0\n",
      "1\n",
      "2\n",
      "True\n",
      "True\n"
     ]
    }
   ],
   "source": [
    "x = 5\n",
    "y = 3\n",
    "\n",
    "print(x + y ** 2)\n",
    "print(y ** 2 * x)\n",
    "print(x ** y - x)\n",
    "print(x ** (y - 2))\n",
    "print(x / y + 3)\n",
    "print(x / y * 3)\n",
    "print(x // y)\n",
    "print(x % y)\n",
    "print(x == y or (x - 4) >= 1)\n",
    "print(x != 2 and y <= 5)"
   ]
  },
  {
   "cell_type": "markdown",
   "source": [
    "#11\n",
    "\n",
    "Какие значения получатся после выполнения следующих функций?"
   ],
   "metadata": {
    "collapsed": false,
    "pycharm": {
     "name": "#%% md\n"
    }
   }
  },
  {
   "cell_type": "code",
   "execution_count": 4,
   "outputs": [
    {
     "name": "stdout",
     "output_type": "stream",
     "text": [
      "4\n",
      "-2\n",
      "5.0\n",
      "5\n",
      "6.1\n",
      "-3.1\n",
      "1.9\n",
      "3.1\n",
      "0.2\n"
     ]
    }
   ],
   "source": [
    "print(round(3.89))\n",
    "print(round(-2.49))\n",
    "print(round(4.999,2))\n",
    "print(abs(-5))\n",
    "print(abs(6.1))\n",
    "print(min(3, -2, -3.1, 0.2))\n",
    "print(max(1.9, -2, -3.1, 0.2))\n",
    "print(abs(min(3, -2, -3.1, 0.2)))\n",
    "print(min(3, abs(-2), abs(-3.1), 0.2))"
   ],
   "metadata": {
    "collapsed": false,
    "pycharm": {
     "name": "#%%\n"
    }
   }
  }
 ],
 "metadata": {
  "kernelspec": {
   "display_name": "Python 3",
   "language": "python",
   "name": "python3"
  },
  "language_info": {
   "codemirror_mode": {
    "name": "ipython",
    "version": 2
   },
   "file_extension": ".py",
   "mimetype": "text/x-python",
   "name": "python",
   "nbconvert_exporter": "python",
   "pygments_lexer": "ipython2",
   "version": "2.7.6"
  }
 },
 "nbformat": 4,
 "nbformat_minor": 0
}