{
 "cells": [
  {
   "cell_type": "markdown",
   "source": [
    "#3\n",
    "Считайте число (см таблицу) в арабской записи и выведите на печать, соответствующую ему римскую цифру:\n",
    "\n",
    "1 - I\n",
    "5 - V\n",
    "10 - X\n",
    "50 - L\n",
    "100 - C\n",
    "500 - D\n",
    "1000 - M"
   ],
   "metadata": {
    "collapsed": false
   }
  },
  {
   "cell_type": "code",
   "execution_count": null,
   "metadata": {
    "collapsed": true
   },
   "outputs": [],
   "source": [
    "arab = int(input())\n",
    "if arab == 1:\n",
    "    print('I')\n",
    "elif arab == 5:\n",
    "    print('V')\n",
    "elif arab == 10:\n",
    "    print('X')\n",
    "elif arab == 50:\n",
    "    print('L')\n",
    "elif arab == 100:\n",
    "    print('C')\n",
    "elif arab == 500:\n",
    "    print('D')\n",
    "else:\n",
    "    print('M')\n"
   ]
  },
  {
   "cell_type": "markdown",
   "source": [
    "#6\n",
    "Считайте строку.\n",
    "\n",
    "Если она содержит число 0, выведите на печать фразу \"Division by zero!\"\n",
    "\n",
    "Если она содержит число, отличное от 0, то считайте ещё одну строку, содержащую число, и напечатайте результат деления 2-ого числа на 1-е. Результат деления округлите до 1 знака после запятой (используйте round)."
   ],
   "metadata": {
    "collapsed": false
   }
  },
  {
   "cell_type": "code",
   "execution_count": null,
   "outputs": [],
   "source": [
    "a = input()\n",
    "if int(a) == 0:\n",
    "    print('Division by zero!')\n",
    "else:\n",
    "    b = input()\n",
    "    rez = int(b) / int(a)\n",
    "    print(round(rez, 1))"
   ],
   "metadata": {
    "collapsed": false
   }
  },
  {
   "cell_type": "markdown",
   "source": [
    "#8\n",
    "Пора объединить полученные знания.\n",
    "\n",
    "Считайте 1 строку. Она содержит строку с названием типа последующих данных. Возможны 3 типа:\n",
    "\n",
    "int\n",
    "str\n",
    "list\n",
    "\n",
    "В случае получения другого типа выведите на печать строку \"Unknown type\".\n",
    "\n",
    "\n",
    "Если получен тип 'int':\n",
    "\n",
    "Считайте ещё 2 строки. Каждая будет содержать целое число.\n",
    "\n",
    "Если оба числа равны 0, выведите на печать строку \"Empty Ints\"\n",
    "Иначе выведите на печать сумму этих чисел\n",
    "\n",
    "\n",
    "Если получен тип 'str':\n",
    "\n",
    "Считайте ещё 1 строку.\n",
    "\n",
    "Если строка пустая, выведите на печать строку \"Empty String\"\n",
    "Иначе напечатайте эту строку\n",
    "\n",
    "\n",
    "Если получен тип 'list':\n",
    "\n",
    "Считайте 1 строку и разрежьте её на элементы с помощью split().\n",
    "\n",
    "Если получившийся список пустой, выведите на печать строку \"Empty List\"\n",
    "Иначе выведите на печать последний элемент списка. Примечание, используйте отрицательный индекс.\n",
    "\n",
    "\n",
    "Используйте приведение типов для определения пустых списков и строк, а так же чисел, равных 0."
   ],
   "metadata": {
    "collapsed": false
   }
  },
  {
   "cell_type": "code",
   "execution_count": 1,
   "outputs": [
    {
     "name": "stdout",
     "output_type": "stream",
     "text": [
      "Unknown type\n"
     ]
    }
   ],
   "source": [
    "T = input()\n",
    "\n",
    "if T == 'int':\n",
    "    a = input()\n",
    "    b = input()\n",
    "    if int(a) == 0 and int(b) == 0:\n",
    "        print('Empty Ints')\n",
    "    else:\n",
    "        print(int(a) + int(b))\n",
    "elif T == 'str':\n",
    "    S = input()\n",
    "    if S == '':\n",
    "        print('Empty String')\n",
    "    else:\n",
    "        print(S)\n",
    "elif T == 'list':\n",
    "    L = input().split()\n",
    "    if L == []:\n",
    "        print('Empty List')\n",
    "    else:\n",
    "        print(L[-1])\n",
    "else:\n",
    "    print('Unknown type')\n"
   ],
   "metadata": {
    "collapsed": false
   }
  }
 ],
 "metadata": {
  "kernelspec": {
   "display_name": "Python 3",
   "language": "python",
   "name": "python3"
  },
  "language_info": {
   "codemirror_mode": {
    "name": "ipython",
    "version": 2
   },
   "file_extension": ".py",
   "mimetype": "text/x-python",
   "name": "python",
   "nbconvert_exporter": "python",
   "pygments_lexer": "ipython2",
   "version": "2.7.6"
  }
 },
 "nbformat": 4,
 "nbformat_minor": 0
}
