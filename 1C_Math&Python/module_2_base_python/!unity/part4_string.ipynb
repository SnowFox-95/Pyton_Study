{
 "cells": [
  {
   "cell_type": "markdown",
   "source": [
    "#3\n",
    "Считайте текст с клавиатуры (из стандартного потока ввода) и выведите его на печать."
   ],
   "metadata": {
    "collapsed": false
   }
  },
  {
   "cell_type": "code",
   "execution_count": null,
   "metadata": {
    "collapsed": true
   },
   "outputs": [],
   "source": [
    "str = input()\n",
    "print(str)"
   ]
  },
  {
   "cell_type": "markdown",
   "source": [
    "#4\n",
    "Считайте 2 строки и выведите их на печать, разделив символом $."
   ],
   "metadata": {
    "collapsed": false
   }
  },
  {
   "cell_type": "code",
   "execution_count": null,
   "outputs": [],
   "source": [
    "s1, s2 = input(), input()\n",
    "print(s1, s2, sep=\"$\")"
   ],
   "metadata": {
    "collapsed": false
   }
  },
  {
   "cell_type": "markdown",
   "source": [
    "#6\n",
    "Примечание. В этой задаче не нужно ничего считывать и никуда выводить. Вся работа производится с переменными.\n",
    "\n",
    "Переменная B1 - строка.\n",
    "\n",
    "Запишите в переменную B2 строку, состоящую только из символов строки B1 с нечётными индексами\n",
    "\n",
    "\n",
    "Примечание. Нумерация элементов в списке и символов в строке начинается с 0!"
   ],
   "metadata": {
    "collapsed": false
   }
  },
  {
   "cell_type": "code",
   "execution_count": null,
   "outputs": [],
   "source": [
    "B2 = B1[1::2]"
   ],
   "metadata": {
    "collapsed": false
   }
  },
  {
   "cell_type": "markdown",
   "source": [
    "#7\n",
    "Примечание. В этой задаче не нужно ничего считывать и никуда выводить. Вся работа производится с переменными.\n",
    "\n",
    "Переменная C1 - строка.\n",
    "\n",
    "Запишите в переменную C2 предпоследний символ переменной C1\n",
    "\n",
    "Примечание. Нумерация элементов в списке и символов в строке начинается с 0!"
   ],
   "metadata": {
    "collapsed": false
   }
  },
  {
   "cell_type": "code",
   "execution_count": null,
   "outputs": [],
   "source": [
    "C2 = C1[-2]"
   ],
   "metadata": {
    "collapsed": false
   }
  },
  {
   "cell_type": "markdown",
   "source": [
    "#8\n",
    "На вход даётся текстовое отображение списка, т.е. строка вида:\n",
    "\n",
    "['mix', 'extra', '', 'x-files', 'xyz', 'xapple', 'apple']\n",
    "\n",
    "Необходимо превратить её в настоящий список (с сохранением порядка, а также не потерять пустую строку) и сохранить в переменную L.\n",
    "Примечание. В этой задаче не требуется выводить ничего на печать - проверка осуществляется содержимого переменной L!"
   ],
   "metadata": {
    "collapsed": false
   }
  },
  {
   "cell_type": "code",
   "execution_count": 33,
   "outputs": [
    {
     "name": "stdout",
     "output_type": "stream",
     "text": [
      "mix, extra, , x-files, xyz, xapple, apple\n",
      "['mix', 'extra', '', 'x-files', 'xyz', 'xapple', 'apple']\n"
     ]
    }
   ],
   "source": [
    "str = \"['mix', 'extra', '', 'x-files', 'xyz', 'xapple', 'apple']\"\n",
    "str = str[1:-1].replace(\"'\", '')\n",
    "L = str.split(', ')\n"
   ],
   "metadata": {
    "collapsed": false
   }
  }
 ],
 "metadata": {
  "kernelspec": {
   "display_name": "Python 3",
   "language": "python",
   "name": "python3"
  },
  "language_info": {
   "codemirror_mode": {
    "name": "ipython",
    "version": 2
   },
   "file_extension": ".py",
   "mimetype": "text/x-python",
   "name": "python",
   "nbconvert_exporter": "python",
   "pygments_lexer": "ipython2",
   "version": "2.7.6"
  }
 },
 "nbformat": 4,
 "nbformat_minor": 0
}
