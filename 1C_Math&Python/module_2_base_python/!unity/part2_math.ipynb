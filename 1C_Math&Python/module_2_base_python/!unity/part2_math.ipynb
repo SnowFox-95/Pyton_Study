{
 "cells": [
  {
   "cell_type": "markdown",
   "source": [
    "#4\n",
    "Основные математические операции.\n",
    "Считайте 2 целых числа (каждое с новой строки) и найдите (каждый результат на новой строке):\n",
    "\n",
    "- сумму чисел;\n",
    "- разность первого и второго;\n",
    "- разность второго и первого;\n",
    "- произведение;\n",
    "- частное от деления первого на второе;\n",
    "- остаток от деления второго на первое;\n",
    "- первое число, возведённое в степень второго.\n",
    "\n",
    "Примечание1. Не заморачивайтесь с округлением.\n",
    "Примечание2. Условие задачи гарантирует, что все числа больше 0."
   ],
   "metadata": {
    "collapsed": false
   }
  },
  {
   "cell_type": "code",
   "execution_count": 1,
   "outputs": [
    {
     "ename": "ValueError",
     "evalue": "invalid literal for int() with base 10: ''",
     "output_type": "error",
     "traceback": [
      "\u001B[0;31m---------------------------------------------------------------------------\u001B[0m",
      "\u001B[0;31mValueError\u001B[0m                                Traceback (most recent call last)",
      "Cell \u001B[0;32mIn [1], line 1\u001B[0m\n\u001B[0;32m----> 1\u001B[0m a \u001B[38;5;241m=\u001B[39m \u001B[38;5;28;43mint\u001B[39;49m\u001B[43m(\u001B[49m\u001B[38;5;28;43minput\u001B[39;49m\u001B[43m(\u001B[49m\u001B[43m)\u001B[49m\u001B[43m)\u001B[49m\n\u001B[1;32m      2\u001B[0m b \u001B[38;5;241m=\u001B[39m \u001B[38;5;28mint\u001B[39m(\u001B[38;5;28minput\u001B[39m())\n\u001B[1;32m      3\u001B[0m \u001B[38;5;28mprint\u001B[39m(a \u001B[38;5;241m+\u001B[39m b)\n",
      "\u001B[0;31mValueError\u001B[0m: invalid literal for int() with base 10: ''"
     ]
    }
   ],
   "source": [
    "a = int(input())\n",
    "b = int(input())\n",
    "print(a + b)\n",
    "print(a - b)\n",
    "print(b - a)\n",
    "print(a * b)\n",
    "print(a / b)\n",
    "print(b % a)\n",
    "print(a ** b)\n"
   ],
   "metadata": {
    "collapsed": false
   }
  },
  {
   "cell_type": "markdown",
   "source": [
    "#5\n",
    "Целая часть от деления.\n",
    "Считайте 2 целых числа, каждое с новой строки.\n",
    "\n",
    "Найдите целую часть от деления первого на второе."
   ],
   "metadata": {
    "collapsed": false
   }
  },
  {
   "cell_type": "code",
   "execution_count": null,
   "outputs": [],
   "source": [
    "def main(el_a, el_b):\n",
    "    rez = el_a / el_b\n",
    "    return int(rez)\n",
    "\n",
    "\n",
    "a = int(input())\n",
    "b = int(input())\n",
    "print(main(a, b))\n"
   ],
   "metadata": {
    "collapsed": false
   }
  },
  {
   "cell_type": "markdown",
   "source": [
    "#6\n",
    "Площадь и периметр треугольника\n",
    "\n",
    "Даны длины 3 сторон треугольника (каждая с новой строки).\n",
    "\n",
    "Найдите:\n",
    "\n",
    "    Периметр треугольника\n",
    "    Площадь треугольника\n",
    "\n",
    "на Wiki можно найти обе формулы, если забыли формулу Герона.\n",
    "\n",
    "Примечание. Извлечение квадратного корня эквивалентно возведению в степень 0.5"
   ],
   "metadata": {
    "collapsed": false
   }
  },
  {
   "cell_type": "code",
   "execution_count": null,
   "outputs": [],
   "source": [
    "from math import sqrt\n",
    "\n",
    "\n",
    "def perim(el_a, el_b, el_c):\n",
    "    p = el_a + el_b + el_c\n",
    "    return p\n",
    "\n",
    "\n",
    "def square(el_a, el_b, el_c):\n",
    "    p2 = perim(el_a, el_b, el_c) / 2\n",
    "    s = sqrt(p2 * (p2 - el_a) * (p2 - el_b) * (p2 - el_c))\n",
    "    return s\n",
    "\n",
    "\n",
    "a, b, c = int(input()), int(input()), int(input())\n",
    "print(perim(a, b, c))\n",
    "print(square(a, b, c))\n"
   ],
   "metadata": {
    "collapsed": false
   }
  },
  {
   "cell_type": "markdown",
   "source": [
    "#8\n",
    "Площадь ромба\n",
    "\n",
    "\n",
    "Даны длины 2 диагоналей ромба (каждая с новой строки).\n",
    "Значения могут быть дробными.\n",
    "\n",
    "Найдите площадь ромба S. В качестве ответа запишите (каждое с новой строки) следующие значения:\n",
    "\n",
    "    S, приведённое к целочисленному типу\n",
    "    S, округлённое до 1 знака после запятой с помощью функции  round()\n",
    "    S, точное значение без округления\n",
    "\n",
    "Площадь ромба можно найти на wiki."
   ],
   "metadata": {
    "collapsed": false
   }
  },
  {
   "cell_type": "code",
   "execution_count": null,
   "outputs": [],
   "source": [
    "def square_rhombus(el_a, el_b):\n",
    "    s = (float(el_a) * float(el_b)) / 2\n",
    "    return s\n",
    "\n",
    "\n",
    "ac = input()\n",
    "bd = input()\n",
    "print(int(square_rhombus(ac, bd)))\n",
    "print(round(square_rhombus(ac, bd), 1))\n",
    "print(square_rhombus(ac, bd))\n"
   ],
   "metadata": {
    "collapsed": false
   }
  },
  {
   "cell_type": "markdown",
   "source": [
    "#9\n",
    "Площадь шестиугольника и 5 треугольников\n",
    "Нарисован правильный шестиугольник со стороной a. К 5 сторонам этого шестиугольника снаружи дорисовали\n",
    "по правильному треугольнику.\n",
    "[Image: https://ucarecdn.com/3541f2c3-004d-4187-8027-4860d5bf5b2d/]\n",
    "Найдите площадь получившейся фигуры. На вход подаётся 1 строка - длина стороны правильного шестиугольника. Ответ\n",
    "округлите до целых."
   ],
   "metadata": {
    "collapsed": false
   }
  },
  {
   "cell_type": "code",
   "execution_count": null,
   "outputs": [],
   "source": [
    "from math import sqrt, pow\n",
    "\n",
    "\n",
    "def main(el_a):\n",
    "    s = (sqrt(3) / 4) * pow(el_a, 2)\n",
    "    rez = s * 11\n",
    "    return round(rez)\n",
    "\n",
    "\n",
    "a = int(input())\n",
    "print(main(a))\n"
   ],
   "metadata": {
    "collapsed": false
   }
  },
  {
   "cell_type": "markdown",
   "source": [
    "#10\n",
    "9 друзей шестиугольника\n",
    "На плоскости нарисован правильный шестиугольник с длиной стороны a.\n",
    "У 3 сторон шестиугольника нарисовали по квадрату с длиной стороны, равной стороне шестиугольника.\n",
    "Оставшиеся 3 стороны разделили пополам, после чего нарисовали по равностороннему треугольнику, касающемуся каждого из получившихся половинных отрезков.\n",
    "[Image: https://ucarecdn.com/6244aaf8-2910-4445-b8ab-ef734eafdb52/]\n",
    "Найдите площадь получившейся фигуры.\n",
    "На вход подаётся 1 строка - длина стороны шестиугольника.\n",
    "Ответ округлите до целых."
   ],
   "metadata": {
    "collapsed": false
   }
  },
  {
   "cell_type": "code",
   "execution_count": null,
   "outputs": [],
   "source": [
    "from math import pow, sqrt\n",
    "\n",
    "\n",
    "def square_triangle(el_a):\n",
    "    s = (sqrt(3) / 4) * pow(el_a, 2)\n",
    "    return s\n",
    "\n",
    "\n",
    "def square_hexagon(el_a):\n",
    "    s = (3 * sqrt(3) * pow(el_a, 2)) / 2\n",
    "    return s\n",
    "\n",
    "\n",
    "def square_quadrilateral(el_a):\n",
    "    s = el_a ** 2\n",
    "    return s\n",
    "\n",
    "\n",
    "def main(el_a):\n",
    "    a_tri = el_a / 2\n",
    "    s_tri = square_triangle(a_tri)\n",
    "    s_qua = square_quadrilateral(el_a)\n",
    "    s_hex = square_hexagon(el_a)\n",
    "    rez = (6 * s_tri) + (3 * s_qua) + s_hex\n",
    "    return round(rez)\n",
    "\n",
    "\n",
    "a = int(input())\n",
    "print(main(a))\n"
   ],
   "metadata": {
    "collapsed": false
   }
  },
  {
   "cell_type": "markdown",
   "source": [
    "#11\n",
    "Додекаэдр\n",
    "На вход программа получает 1 строку - длину ребра додекаэдра.\n",
    "Используя формулы из Wiki найдите площадь поверхности и объём фигуры.\n",
    "Ответ округлите до 2 знака после запятой."
   ],
   "metadata": {
    "collapsed": false
   }
  },
  {
   "cell_type": "code",
   "execution_count": null,
   "outputs": [],
   "source": [
    "from math import sqrt, pow\n",
    "\n",
    "\n",
    "def square(el_a):\n",
    "    s = (3 * (pow(el_a, 2))) * sqrt(5 * (5 + 2 * sqrt(5)))\n",
    "    return round(s, 2)\n",
    "\n",
    "\n",
    "def volume(el_a):\n",
    "    v = ((a ** 3) / 4) * (15 + 7 * sqrt(5))\n",
    "    return round(v, 2)\n",
    "\n",
    "\n",
    "a = int(input())\n",
    "print(square(a))\n",
    "print(volume(a))\n"
   ],
   "metadata": {
    "collapsed": false
   }
  },
  {
   "cell_type": "markdown",
   "source": [
    "#12\n",
    "Задача фон Неймана о мухе и поездах\n",
    "\n",
    "Два поезда находятся на расстоянии L км друг от друга и приближаются по одной колее, развивают скорости v_1 км/ч и v_2 км/ч, соответственно. С ветрового стекла одного локомотива в начальный момент движения взлетает муха и принимается летать со скоростью v_m км/ч вперед и назад между поездами, пока те, столкнувшись, не раздавят ее.\n",
    "\n",
    "Какое расстояние успевает пролететь муха до столкновения поездов?\n",
    "\n",
    "На вход подаётся 4 натуральных числа:\n",
    "    * L\n",
    "    * v_1\n",
    "    * v_2\n",
    "    * v_m\n",
    "Ответом будет 1 натуральное число\n",
    "Примечание. Это простая математическая задача, здесь не нужны циклы или ряды. Условие задачи гарантирует, что v_m>v_1, v_m>v_2"
   ],
   "metadata": {
    "collapsed": false
   }
  },
  {
   "cell_type": "code",
   "execution_count": null,
   "outputs": [],
   "source": [
    "def main(l, v_1, v_2, v_m):\n",
    "    v_s = v_1 + v_2\n",
    "    t = l / v_s\n",
    "    s = t * v_m\n",
    "    return s\n",
    "\n",
    "\n",
    "l, v_1, v_2, v_m = int(input()), int(input()), int(input()), int(input())\n",
    "print(int(main(l, v_1, v_2, v_m)))\n"
   ],
   "metadata": {
    "collapsed": false
   }
  }
 ],
 "metadata": {
  "kernelspec": {
   "display_name": "Python 3",
   "language": "python",
   "name": "python3"
  },
  "language_info": {
   "codemirror_mode": {
    "name": "ipython",
    "version": 2
   },
   "file_extension": ".py",
   "mimetype": "text/x-python",
   "name": "python",
   "nbconvert_exporter": "python",
   "pygments_lexer": "ipython2",
   "version": "2.7.6"
  }
 },
 "nbformat": 4,
 "nbformat_minor": 0
}
