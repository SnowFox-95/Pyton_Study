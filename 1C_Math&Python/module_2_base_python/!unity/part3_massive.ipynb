{
 "cells": [
  {
   "cell_type": "markdown",
   "source": [
    "#4\n",
    "На вход подаётся строка из 3 целых чисел.\n",
    "Найдите сумму чисел."
   ],
   "metadata": {
    "collapsed": false
   }
  },
  {
   "cell_type": "code",
   "execution_count": 1,
   "outputs": [
    {
     "name": "stdout",
     "output_type": "stream",
     "text": [
      "8\n"
     ]
    }
   ],
   "source": [
    "def summ(l):\n",
    "    s = 0\n",
    "    for i in range(0, 3):\n",
    "        s += int(l[i])\n",
    "    return s\n",
    "\n",
    "\n",
    "#listing = input().split(' ')\n",
    "listing = '5 0 3'.split(' ')  # взята строка из теста в задаче\n",
    "print(summ(listing))"
   ],
   "metadata": {
    "collapsed": false
   }
  },
  {
   "cell_type": "markdown",
   "source": [
    "#6\n",
    "Считайте 2 строки. Каждая строка содержит по 3 натуральных числа.\n",
    "Найдите сумму чисел в каждой строке и выведите на печать одной строкой.\n",
    "В качестве разделителя между двумя получившимися числами используйте символ \"#\""
   ],
   "metadata": {
    "collapsed": false
   }
  },
  {
   "cell_type": "code",
   "execution_count": 2,
   "outputs": [
    {
     "name": "stdout",
     "output_type": "stream",
     "text": [
      "7#18\n"
     ]
    }
   ],
   "source": [
    "def summ(l1, l2):\n",
    "    s = 0\n",
    "    for i in range(0, 3):\n",
    "        s += int(l1[i])\n",
    "    rez = str(s)\n",
    "    s = 0\n",
    "    for i in range(0, 3):\n",
    "        s += int(l2[i])\n",
    "    rez = rez + '#' + str(s)\n",
    "    return rez\n",
    "\n",
    "\n",
    "#list1 = input().split(' ')\n",
    "#list2 = input().split(' ')\n",
    "# тут также были использованы данные из открытого теста\n",
    "list1 = '2 3 2'.split(' ')\n",
    "list2 = '8 1 9'.split(' ')\n",
    "print(summ(list1, list2))"
   ],
   "metadata": {
    "collapsed": false
   }
  },
  {
   "cell_type": "markdown",
   "source": [
    "#7\n",
    "На вход подаётся 1 строка, слова в которой разделены символом \"&\".\n",
    "Необходимо вывести все слова из строки (без дубликатов) с пробелом в качестве разделителя."
   ],
   "metadata": {
    "collapsed": false
   }
  },
  {
   "cell_type": "code",
   "execution_count": null,
   "outputs": [],
   "source": [
    "def main(st):\n",
    "    s = set(st)\n",
    "    s = (list(s))\n",
    "    print(*s)\n",
    "\n",
    "\n",
    "string = 'one&One&one'.split('&')  # данные из открытого теста\n",
    "main(string)"
   ],
   "metadata": {
    "collapsed": false
   }
  },
  {
   "cell_type": "markdown",
   "source": [
    "#9\n",
    "На вход подаётся строка, слова в которой разделены между собой пробелами.\n",
    "Напечатайте 2, 3 и предпоследнее слова из строки (через пробел)"
   ],
   "metadata": {
    "collapsed": false
   }
  },
  {
   "cell_type": "code",
   "execution_count": 1,
   "outputs": [
    {
     "name": "stdout",
     "output_type": "stream",
     "text": [
      "Short String Short\n"
     ]
    }
   ],
   "source": [
    "def main(lst):\n",
    "    new_str = str(lst[1]) + ' ' + str(lst[2]) + ' ' + str(lst[-2])\n",
    "    print(new_str)\n",
    "\n",
    "\n",
    "string = input().split(' ')\n",
    "main(string)"
   ],
   "metadata": {
    "collapsed": false
   }
  },
  {
   "cell_type": "markdown",
   "source": [
    "#10\n",
    "На вход подаётся 1 строка, слова в которой разделены пробелами.\n",
    "Напечатайте слова из этой строки в обратном порядке, используя в качестве разделителя \"-$-\""
   ],
   "metadata": {
    "collapsed": false
   }
  },
  {
   "cell_type": "code",
   "execution_count": null,
   "outputs": [],
   "source": [],
   "metadata": {
    "collapsed": false
   }
  },
  {
   "cell_type": "markdown",
   "source": [
    "#12\n",
    "На вход подаётся 1 строка, слова в которой разделены пробелами.\n",
    "Напечатайте через пробел число слов в строке и число слов \"one\" в строке.\n",
    "\n",
    "Примечание1. Учитывайте вхождение только слова полностью в нижнем регистре - \"one\". \"One\", \"ONE\" и т.п. не учитывайте.\n",
    "Примечание2. Число элементов списка L можно получить с помощью конструкции len(L)"
   ],
   "metadata": {
    "collapsed": false
   }
  },
  {
   "cell_type": "code",
   "execution_count": null,
   "outputs": [],
   "source": [],
   "metadata": {
    "collapsed": false
   }
  },
  {
   "cell_type": "markdown",
   "source": [
    "#14 sum()\n",
    "Функция sum() принимает на вход массив(любого типа) чисел и находит их сумму:\n",
    "[Image: https://ucarecdn.com/53e9cdd2-ea5f-455d-9966-cf3a03b0ce22/]\n",
    "Считайте строку, содержащую произвольное количество целых чисел и найдите их сумму."
   ],
   "metadata": {
    "collapsed": false
   }
  },
  {
   "cell_type": "code",
   "execution_count": null,
   "outputs": [],
   "source": [],
   "metadata": {
    "collapsed": false,
    "pycharm": {
     "is_executing": true
    }
   }
  }
 ],
 "metadata": {
  "kernelspec": {
   "display_name": "Python 3",
   "language": "python",
   "name": "python3"
  },
  "language_info": {
   "codemirror_mode": {
    "name": "ipython",
    "version": 2
   },
   "file_extension": ".py",
   "mimetype": "text/x-python",
   "name": "python",
   "nbconvert_exporter": "python",
   "pygments_lexer": "ipython2",
   "version": "2.7.6"
  }
 },
 "nbformat": 4,
 "nbformat_minor": 0
}
