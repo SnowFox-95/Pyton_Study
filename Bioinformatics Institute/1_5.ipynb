{
 "cells": [
  {
   "cell_type": "code",
   "execution_count": 3,
   "metadata": {
    "collapsed": true,
    "pycharm": {
     "name": "#%%\n"
    }
   },
   "outputs": [
    {
     "name": "stdout",
     "output_type": "stream",
     "text": [
      "12345554321\n"
     ]
    }
   ],
   "source": [
    "'''\n",
    "#3\n",
    "Составьте выражение для вычисления в интерпретаторе Python 3 и вставьте в поле ответа результат вычисления:\n",
    "\n",
    "\n",
    "\n",
    "11111 \\cdot 1111111\n",
    "11111⋅1111111\n",
    "— произведение чисел 11111 (5 единиц) и 1111111 (7 единиц)'''\n",
    "\n",
    "print(11111*1111111) # 12345554321"
   ]
  },
  {
   "cell_type": "code",
   "execution_count": null,
   "outputs": [],
   "source": [
    "'''\n",
    "#5\n",
    "Составьте выражение для вычисления указанной ниже формулы и вставьте в поле ответа вывод интерпретатора после вычисления этого выражения.\n",
    "\n",
    "42 / (4+2 * (-2))\n",
    "\n",
    "На самом деле, Python 3 не может вычислить подобное выражение, поэтому возникнет ошибка.\n",
    "Впишите вывод интерпретатора Python 3 в поле для ответа.'''\n",
    "\n",
    "print (42 / (4+2 * (-2))) #ZeroDivisionError: division by zero"
   ],
   "metadata": {
    "collapsed": false,
    "pycharm": {
     "name": "#%%\n",
     "is_executing": true
    }
   }
  },
  {
   "cell_type": "code",
   "execution_count": 4,
   "outputs": [
    {
     "name": "stdout",
     "output_type": "stream",
     "text": [
      "18064773765607550801425251468864907833685590016\n"
     ]
    }
   ],
   "source": [
    "'''\n",
    "#7\n",
    "Составьте выражение для вычисления в интерпретаторе Python 3 и вставьте в поле ответа результат вычисления:\n",
    "2014^14\n",
    "\n",
    "Заметьте, насколько большое это число. Во многих других языках программирования работать со значениями такого порядка гораздо сложнее.'''\n",
    "print(2014**14) #18064773765607550801425251468864907833685590016"
   ],
   "metadata": {
    "collapsed": false,
    "pycharm": {
     "name": "#%%\n"
    }
   }
  },
  {
   "cell_type": "code",
   "execution_count": null,
   "outputs": [],
   "source": [],
   "metadata": {
    "collapsed": false,
    "pycharm": {
     "name": "#%%\n"
    }
   }
  }
 ],
 "metadata": {
  "kernelspec": {
   "display_name": "Python 3",
   "language": "python",
   "name": "python3"
  },
  "language_info": {
   "codemirror_mode": {
    "name": "ipython",
    "version": 2
   },
   "file_extension": ".py",
   "mimetype": "text/x-python",
   "name": "python",
   "nbconvert_exporter": "python",
   "pygments_lexer": "ipython2",
   "version": "2.7.6"
  }
 },
 "nbformat": 4,
 "nbformat_minor": 0
}